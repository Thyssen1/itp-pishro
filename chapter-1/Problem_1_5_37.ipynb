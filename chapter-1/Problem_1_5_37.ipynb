{
 "cells": [
  {
   "cell_type": "markdown",
   "id": "1fd05567-9e4e-4285-98be-aef8226398b3",
   "metadata": {},
   "source": [
    "### Problem 1.5.37"
   ]
  },
  {
   "cell_type": "markdown",
   "id": "a477cdfa-1bb8-46ff-9003-c3b6c801e1a9",
   "metadata": {},
   "source": [
    "Let the following events be defined as:\n",
    "\n",
    "A: All girls\n",
    "\n",
    "B: At least one girl"
   ]
  },
  {
   "cell_type": "markdown",
   "id": "7e96cc8d-f23f-46bd-80b4-0377cfee2ee4",
   "metadata": {},
   "source": [
    "Then the probability that all n children are girls given that at least one of them is a girl is:\n",
    "\n",
    "$\\displaystyle P(A|B) = \\frac{P(B|A) P(A)}{P(B)} = \\frac{P(A)}{P(B)}$"
   ]
  },
  {
   "cell_type": "markdown",
   "id": "b4818e61-3c08-4b89-9cbd-8e309549974b",
   "metadata": {},
   "source": [
    "Since the probability that at least one is a girl given that all are girls is 1."
   ]
  },
  {
   "cell_type": "markdown",
   "id": "776b7afb-cc9e-4066-b347-65ca1c597010",
   "metadata": {},
   "source": [
    "Then:\n",
    "\n",
    "$\\displaystyle P(A) = \\frac{1}{2}^{n}$\n",
    "\n",
    "$\\displaystyle B = S - \\{\\text{All boys}\\} \\implies |B| = 2^{n} - 1 \\implies P(B) = \\frac{2^{n}-1}{2^{n}}$"
   ]
  },
  {
   "cell_type": "markdown",
   "id": "eed90aa8-09d1-4c25-809c-021a0561a017",
   "metadata": {},
   "source": [
    "Finally:\n",
    "\n",
    "$\\displaystyle P(A|B) = \\frac{1}{2}^{n} \\frac{2^{n}}{2^{n}-1} = \\frac{1}{2^{n-1}}$"
   ]
  },
  {
   "cell_type": "markdown",
   "id": "10ff717c-86a4-4975-bc64-da248cf01e87",
   "metadata": {},
   "source": [
    "A quick check for $n=2$ yields:\n",
    "\n",
    "$P(GG | \\text{At least one girl}) = \\frac{1}{3}$\n",
    "\n",
    "since there are 3 events where there is at least one girl."
   ]
  },
  {
   "cell_type": "code",
   "execution_count": null,
   "id": "f3ac0dd9-86cc-4792-940e-4ff03b0f2f7c",
   "metadata": {},
   "outputs": [],
   "source": []
  }
 ],
 "metadata": {
  "kernelspec": {
   "display_name": "Python 3 (ipykernel)",
   "language": "python",
   "name": "python3"
  },
  "language_info": {
   "codemirror_mode": {
    "name": "ipython",
    "version": 3
   },
   "file_extension": ".py",
   "mimetype": "text/x-python",
   "name": "python",
   "nbconvert_exporter": "python",
   "pygments_lexer": "ipython3",
   "version": "3.11.4"
  }
 },
 "nbformat": 4,
 "nbformat_minor": 5
}
