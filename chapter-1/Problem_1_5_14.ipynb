{
 "cells": [
  {
   "cell_type": "markdown",
   "id": "6252507a-78b9-43d9-9bb5-801af13c7c91",
   "metadata": {},
   "source": [
    "### Problem 1.5.14"
   ]
  },
  {
   "cell_type": "markdown",
   "id": "da0e611d-d655-4856-b7a8-3a45dd5c91b1",
   "metadata": {},
   "source": [
    "a) \n",
    "\n",
    "$P(A \\cap B) = P(A) + P(B) - P(A \\cup B) = 0.4 + 0.7 - 0.9 = 0.2$\n"
   ]
  },
  {
   "cell_type": "markdown",
   "id": "001e06f5-03e0-4e1b-8181-0d1135634945",
   "metadata": {},
   "source": [
    "b)\n",
    "\n",
    "$P(A^c \\cap B) = P(B) - P(A \\cap B) = 0.7 - 0.2 = 0.5$\n"
   ]
  },
  {
   "cell_type": "markdown",
   "id": "80cbbe58-b269-412b-8ad9-d000b1cdff2d",
   "metadata": {},
   "source": [
    "c)\n",
    "\n",
    "$P(A - B) = P(A \\cup B) - P(B) = 0.9 - 0.7 = 0.2$\n"
   ]
  },
  {
   "cell_type": "markdown",
   "id": "333db467-465a-4d43-b628-7469f2ff65ba",
   "metadata": {},
   "source": [
    "d)\n",
    "\n",
    "\n",
    "$P(A^c - B) = P((A \\cup B)^{c}) = 1 - P(A \\cup B) = 1 - 0.9 = 0.1$"
   ]
  },
  {
   "cell_type": "markdown",
   "id": "a80b9c79-7f80-4336-b014-a75954c31ef9",
   "metadata": {},
   "source": [
    "e)\n",
    "\n",
    "$P(A^c \\cup B) = P(A^c) + P(B) - P(A^c \\cap B) = 1 - P(A) + P(B) - P(B-A) = 1- P(A) + P(A \\cap B) = 1 - 0.4 + 0.2 = 0.8$"
   ]
  },
  {
   "cell_type": "markdown",
   "id": "c7b3866b-140e-4df7-8db0-66a50dffce2e",
   "metadata": {},
   "source": [
    "#### f)\n",
    "\n",
    "$P(A \\cap (A \\cup A^c)) = P(A \\cap (A-B)^c) = P(A \\cap B) = 0.2$\n"
   ]
  },
  {
   "cell_type": "code",
   "execution_count": null,
   "id": "313eb885-79a2-403e-9181-256d4bd5779e",
   "metadata": {},
   "outputs": [],
   "source": []
  }
 ],
 "metadata": {
  "kernelspec": {
   "display_name": "Python 3 (ipykernel)",
   "language": "python",
   "name": "python3"
  },
  "language_info": {
   "codemirror_mode": {
    "name": "ipython",
    "version": 3
   },
   "file_extension": ".py",
   "mimetype": "text/x-python",
   "name": "python",
   "nbconvert_exporter": "python",
   "pygments_lexer": "ipython3",
   "version": "3.11.4"
  }
 },
 "nbformat": 4,
 "nbformat_minor": 5
}
