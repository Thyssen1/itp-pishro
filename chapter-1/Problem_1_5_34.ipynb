{
 "cells": [
  {
   "cell_type": "markdown",
   "id": "b42f9317-bd5d-4748-8be5-f4bf13316f7b",
   "metadata": {},
   "source": [
    "### Problem 1.5.34"
   ]
  },
  {
   "cell_type": "markdown",
   "id": "458b8e61-5491-4ddf-8427-116b606fa5b1",
   "metadata": {},
   "source": [
    "Let $A: X = 2$, $B: X + Y = 7$ and $C: Y = 3$\n",
    "\n",
    "Then:\n",
    "\n",
    "$P(A) = P(X=2) = \\frac{1}{6}$\n",
    "\n",
    "$P(B) = P(X+Y=7) = \\frac{1}{6}$\n",
    "\n",
    "$P(C) = P(Y=3) = \\frac{1}{6}$"
   ]
  },
  {
   "cell_type": "markdown",
   "id": "fe5de5b1-862d-4b0b-8adb-c3237a183711",
   "metadata": {},
   "source": [
    "a) \n",
    "\n",
    "$\\displaystyle P(AB) = P(X=2, Y=5) = P(X=2) P(Y=5) = \\frac{1}{36}$\n",
    "\n",
    "$\\displaystyle  P(A) P(B) = \\frac{1}{6} \\frac{1}{6} = \\frac{1}{36}$\n",
    "\n",
    "Independent."
   ]
  },
  {
   "cell_type": "markdown",
   "id": "7e57d270-b423-4b76-bfd4-e123ba00ae31",
   "metadata": {},
   "source": [
    "b)\n",
    "\n",
    "$P(AC) = P(X=2, Y=3) = \\frac{1}{36}$\n",
    "\n",
    "$P(A) P(C) = \\frac{1}{6} \\frac{1}{6} = \\frac{1}{36}$\n",
    "\n",
    "Independent.\n"
   ]
  },
  {
   "cell_type": "markdown",
   "id": "efc305b0-ec1b-4481-b5d0-b71e6cf915e4",
   "metadata": {},
   "source": [
    "c)\n",
    "\n",
    "$P(BC) = P(X=4, Y=3) = \\frac{1}{36}$\n",
    "\n",
    "$P(B) P(C) = \\frac{1}{6} \\frac{1}{6} = \\frac{1}{36}$\n",
    "\n",
    "Independent.\n"
   ]
  },
  {
   "cell_type": "markdown",
   "id": "41df854d-34c9-405e-ac1d-ebe40f7919a0",
   "metadata": {},
   "source": [
    "d)\n",
    "\n",
    "$P(ABC) = 0$ since the events $X=2$, $Y=3$, and $X+Y=7$ cannot be true at the same time.\n",
    "\n",
    "Not independent."
   ]
  }
 ],
 "metadata": {
  "kernelspec": {
   "display_name": "Python 3 (ipykernel)",
   "language": "python",
   "name": "python3"
  },
  "language_info": {
   "codemirror_mode": {
    "name": "ipython",
    "version": 3
   },
   "file_extension": ".py",
   "mimetype": "text/x-python",
   "name": "python",
   "nbconvert_exporter": "python",
   "pygments_lexer": "ipython3",
   "version": "3.11.4"
  }
 },
 "nbformat": 4,
 "nbformat_minor": 5
}
