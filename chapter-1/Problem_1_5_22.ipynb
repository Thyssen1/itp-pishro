{
 "cells": [
  {
   "cell_type": "markdown",
   "id": "5021419e-f051-44c1-aa21-d83943702901",
   "metadata": {},
   "source": [
    "### Problem 1.5.22"
   ]
  },
  {
   "cell_type": "markdown",
   "id": "573faef4-3343-493f-a6f0-92b2ea1b4e79",
   "metadata": {},
   "source": [
    "A: Purchase coffee.\n",
    "B: Purhcase cake."
   ]
  },
  {
   "cell_type": "markdown",
   "id": "ab5e7c32-4b8e-43c6-a7f5-9a2d5687104a",
   "metadata": {},
   "source": [
    "$P(A) = 0.7, P(B) = 0.4, P(A \\cap B) = 0.2$"
   ]
  },
  {
   "cell_type": "markdown",
   "id": "bcfcf47a-91f9-46c2-94f8-ba140b82f959",
   "metadata": {},
   "source": []
  }
 ],
 "metadata": {
  "kernelspec": {
   "display_name": "Python 3 (ipykernel)",
   "language": "python",
   "name": "python3"
  },
  "language_info": {
   "codemirror_mode": {
    "name": "ipython",
    "version": 3
   },
   "file_extension": ".py",
   "mimetype": "text/x-python",
   "name": "python",
   "nbconvert_exporter": "python",
   "pygments_lexer": "ipython3",
   "version": "3.11.4"
  }
 },
 "nbformat": 4,
 "nbformat_minor": 5
}
