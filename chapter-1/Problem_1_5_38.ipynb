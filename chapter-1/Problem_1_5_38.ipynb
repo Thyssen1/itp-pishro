{
 "cells": [
  {
   "cell_type": "markdown",
   "id": "cc540191-f268-4d10-a5ff-a0aa06f722b9",
   "metadata": {},
   "source": [
    "### Problem 1.5.38"
   ]
  },
  {
   "cell_type": "markdown",
   "id": "4d0d1e2e-eeae-47b0-9425-19f358d3593b",
   "metadata": {},
   "source": [
    "Let the following events be defined as:\n",
    "\n",
    "$L: \\text{at least one girl is named Lilia}$\n",
    "\n",
    "$G: \\text{All n children are girls}$\n",
    "\n",
    "Then the probability that all children are girls given that at least one is named Lilia is:\n",
    "\n",
    "$\\displaystyle P(G|L) = \\frac{ P(L|G) P(G) }{ P(L) }$"
   ]
  },
  {
   "cell_type": "markdown",
   "id": "54bd0059-ef1e-4b35-95c9-706d764385cf",
   "metadata": {},
   "source": [
    "where $P(L|G)$ is:\n",
    "\n",
    "$P(L|G) = 1 - P(\\bar{L}|G) = 1 - (1-\\alpha)^{n}$\n",
    "\n",
    "since given that the children are girls and assuming that independently none of them are named Lilia."
   ]
  },
  {
   "cell_type": "markdown",
   "id": "96412cd0-9267-4256-98ad-c5f67d99296f",
   "metadata": {},
   "source": [
    "and where $P(G)$ is simply:\n",
    "\n",
    "$P(G) = \\frac{1}{2}^{n}$\n",
    "\n"
   ]
  },
  {
   "cell_type": "markdown",
   "id": "ee777571-f06d-457d-b7b9-a70c6077adbf",
   "metadata": {},
   "source": [
    "And where $P(L)$ can be found by considering the case where no children are named Lilia:\n",
    "\n",
    "$P(L) = 1 - P(\\bar{L})$\n",
    "\n",
    "Then in order to find $P{\\bar{L})$ we must find the probability that a girl is named Lilia:\n",
    "\n",
    "$P(\\text{A girl is named Lilia}) = P(\\text{girl}) P(\\text{Lilia} | \\text{girl}) = \\frac{1}{2} \\alpha = \\frac{\\alpha}{2} \n",
    "\\implies\n",
    "\n",
    "$P(L) = 1 - \\frac{\\alpha}{2}$\n"
   ]
  },
  {
   "cell_type": "markdown",
   "id": "9d002518-9452-4c99-a249-b74adba5ec70",
   "metadata": {},
   "source": [
    "Then:\n",
    "\n",
    "$\\displaystyle P(G|L) = \\frac{1 - (1-\\alpha)^{n} \\frac{1}{2}^{n}}{1 - (1-\\frac{\\alpha}{2})^{n}}$\n",
    "\n"
   ]
  },
  {
   "cell_type": "markdown",
   "id": "fdfebf82-e20b-44dd-9ebf-d4f903041c4b",
   "metadata": {},
   "source": [
    "We can check for $n=2$ to see if we get the same result as in the book:\n",
    "\n",
    "$\\displaystyle P(G=2|L) = \\frac{1 - (1 - \\frac{\\alpha}{2})^{2} \\frac{1}{4}}{1 - (1-\\frac{\\alpha}{2})^{2}}$"
   ]
  },
  {
   "cell_type": "code",
   "execution_count": 1,
   "id": "6ef9cbe0-ed6f-4c75-bee3-284a30e3decc",
   "metadata": {},
   "outputs": [
    {
     "name": "stdout",
     "output_type": "stream",
     "text": [
      "Requirement already satisfied: sympy in c:\\users\\chris\\appdata\\local\\programs\\python\\python311\\lib\\site-packages (1.12)\n",
      "Requirement already satisfied: mpmath>=0.19 in c:\\users\\chris\\appdata\\local\\programs\\python\\python311\\lib\\site-packages (from sympy) (1.3.0)\n"
     ]
    },
    {
     "name": "stderr",
     "output_type": "stream",
     "text": [
      "\n",
      "[notice] A new release of pip is available: 25.0.1 -> 25.1.1\n",
      "[notice] To update, run: python.exe -m pip install --upgrade pip\n"
     ]
    }
   ],
   "source": [
    "!pip install sympy"
   ]
  },
  {
   "cell_type": "code",
   "execution_count": 2,
   "id": "116ebd11-aef9-499f-8acf-b70d6bd8c2b0",
   "metadata": {},
   "outputs": [
    {
     "name": "stdout",
     "output_type": "stream",
     "text": [
      "Original expression for n=2:\n",
      "(0.25 - 0.25*(1 - alpha)**2)/(1 - (1 - alpha/2)**2)\n",
      "\n",
      "Simplified expression for n=2:\n",
      "(alpha - 2)/(alpha - 4)\n"
     ]
    }
   ],
   "source": [
    "from sympy import symbols, simplify\n",
    "\n",
    "# Define the symbolic variable\n",
    "alpha = symbols('alpha')\n",
    "\n",
    "# For n = 2\n",
    "n = 2\n",
    "\n",
    "# Define the expression P(G|A) for n=2\n",
    "expr = 2**(-n) * (1 - (1 - alpha)**n) / (1 - (1 - alpha/2)**n)\n",
    "\n",
    "# Simplify the expression\n",
    "simplified_expr = simplify(expr)\n",
    "\n",
    "# Output\n",
    "print(\"Original expression for n=2:\")\n",
    "print(expr)\n",
    "print(\"\\nSimplified expression for n=2:\")\n",
    "print(simplified_expr)"
   ]
  },
  {
   "cell_type": "markdown",
   "id": "9afb0c4c-f263-43ee-9eb3-6679d6f88c05",
   "metadata": {},
   "source": [
    "The simplified expression is for $n=2$ is:\n",
    "\n",
    "$\\displaystyle \\frac{2 - \\alpha}{4 - \\alpha}$\n",
    "\n",
    "which is the answer we found in solved problem 7 in 1.4.5 Solved Problem.s"
   ]
  },
  {
   "cell_type": "code",
   "execution_count": null,
   "id": "9bf48877-b27c-4a84-860a-bc63fa1ae3d1",
   "metadata": {},
   "outputs": [],
   "source": []
  }
 ],
 "metadata": {
  "kernelspec": {
   "display_name": "Python 3 (ipykernel)",
   "language": "python",
   "name": "python3"
  },
  "language_info": {
   "codemirror_mode": {
    "name": "ipython",
    "version": 3
   },
   "file_extension": ".py",
   "mimetype": "text/x-python",
   "name": "python",
   "nbconvert_exporter": "python",
   "pygments_lexer": "ipython3",
   "version": "3.11.4"
  }
 },
 "nbformat": 4,
 "nbformat_minor": 5
}
