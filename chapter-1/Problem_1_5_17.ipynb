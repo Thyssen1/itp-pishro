{
 "cells": [
  {
   "cell_type": "markdown",
   "id": "77230133-2742-4b32-bd23-a7cb1333085c",
   "metadata": {},
   "source": [
    "### Problem 1.5.17"
   ]
  },
  {
   "cell_type": "markdown",
   "id": "e0059a66-56d3-4989-b80f-93721c2294b4",
   "metadata": {},
   "source": [
    "Since exactly one of the the teams will win the events are disjoint and thus:\n",
    "\n",
    "$P(S) = P(A) + P(B) + P(C) + P(D) = 1$\n",
    "\n",
    "The following information is given as:\n",
    "\n",
    "$P(A) = P(B)$\n",
    "\n",
    "$P(C) = 2 P(D)$\n",
    "\n",
    "$P(A \\cup C) = 0.6 = P(A) + P(C)$"
   ]
  },
  {
   "cell_type": "markdown",
   "id": "8ba373d0-5d7c-4d00-986d-360483d8e921",
   "metadata": {},
   "source": [
    "The above information leads to the two coupled linear equations:\n",
    "\n",
    "$2 P(A) + 3 P(D) = 1$\n",
    "\n",
    "$P(A) + 2 P(D) = \\frac{3}{5}$\n",
    "\n",
    "And solving for these equations leads to:\n",
    "\n",
    "$P(A) = \\frac{1}{5}, P(B) = \\frac{1}{5}, P(C) = \\frac{2}{5}, P(D) = \\frac{1}{5}$\n",
    "\n",
    "Since the probabilities sum to 1 and satisfy the equations above we  have found the correct solution."
   ]
  },
  {
   "cell_type": "markdown",
   "id": "5b28c819-9cba-48df-b828-1fbb5b83b6d0",
   "metadata": {},
   "source": []
  }
 ],
 "metadata": {
  "kernelspec": {
   "display_name": "Python 3 (ipykernel)",
   "language": "python",
   "name": "python3"
  },
  "language_info": {
   "codemirror_mode": {
    "name": "ipython",
    "version": 3
   },
   "file_extension": ".py",
   "mimetype": "text/x-python",
   "name": "python",
   "nbconvert_exporter": "python",
   "pygments_lexer": "ipython3",
   "version": "3.12.4"
  }
 },
 "nbformat": 4,
 "nbformat_minor": 5
}
