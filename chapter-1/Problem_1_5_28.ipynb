{
 "cells": [
  {
   "cell_type": "markdown",
   "id": "8538126b-de29-42f5-9879-f91166ba668a",
   "metadata": {},
   "source": [
    "### Problem 1.5.28"
   ]
  },
  {
   "cell_type": "markdown",
   "id": "46eeaa85-5386-48a2-bcb7-1a08343f46da",
   "metadata": {},
   "source": [
    "Let $D_{i}$ be the event that the i'th draw is a defect.\n",
    "We want to know the probability that exactly one of them is a defect, that is:\n",
    "\n",
    "$P(D_{1} \\cap \\bar{D_{2}} \\cap \\bar{D_{3}}) + P(\\bar{D_{1}} \\cap D_{2} \\cap \\bar{D_{3}}) + P(\\bar{D_{1}} \\cap \\bar{D_{2}} \\cap D_{3})$"
   ]
  },
  {
   "cell_type": "markdown",
   "id": "1bb07c6b-84b1-4975-bb4c-2d6f42f881ae",
   "metadata": {},
   "source": [
    "The probability that there is exactly one defect is then:"
   ]
  },
  {
   "cell_type": "markdown",
   "id": "2175cce4-247d-43bc-ab28-a2a0bbbdebd3",
   "metadata": {},
   "source": [
    "(5/100 * 95/99 * 94/98) + (95/100 * 5/99 * 94/98) + (95/100 * 94/99 * 5/98)"
   ]
  },
  {
   "cell_type": "code",
   "execution_count": null,
   "id": "eca6a051-1ef8-4054-bd44-d441efacc377",
   "metadata": {},
   "outputs": [],
   "source": [
    "We can also verify this by simulation:"
   ]
  },
  {
   "cell_type": "code",
   "execution_count": null,
   "id": "86518bf2-464c-4152-9478-ecd942f21225",
   "metadata": {},
   "outputs": [],
   "source": [
    "import random\n",
    "from math import comb\n",
    "\n",
    "def simulate_defective_exactly_one(n_trials):\n",
    "    count = 0\n",
    "    for _ in range(n_trials):\n",
    "        sample = random.sample(range(100), 3)\n",
    "        # indices 0-4 represent defective units\n",
    "        num_def = sum(1 for i in sample if i < 5)\n",
    "        if num_def == 1:\n",
    "            count += 1\n",
    "    return count / n_trials\n",
    "\n",
    "# Configure and run simulation\n",
    "trials = 1000000\n",
    "estimate = simulate_defective_exactly_one(trials)\n",
    "exact_prob = comb(5, 1) * comb(95, 2) / comb(100, 3)\n",
    "\n",
    "# Display results\n",
    "print(f\"Estimated probability (simulation with {trials} trials): {estimate:.6f}\")\n",
    "print(f\"Exact probability (analytical): {exact_prob:.6f}\")\n",
    "print(f\"The absolute difference is: {abs(estimate - exact_prob):.6f}\")\n"
   ]
  },
  {
   "cell_type": "code",
   "execution_count": null,
   "id": "d43414b5-6067-47e8-8eed-c58b8ab9e026",
   "metadata": {},
   "outputs": [],
   "source": []
  }
 ],
 "metadata": {
  "kernelspec": {
   "display_name": "Python 3 (ipykernel)",
   "language": "python",
   "name": "python3"
  },
  "language_info": {
   "codemirror_mode": {
    "name": "ipython",
    "version": 3
   },
   "file_extension": ".py",
   "mimetype": "text/x-python",
   "name": "python",
   "nbconvert_exporter": "python",
   "pygments_lexer": "ipython3",
   "version": "3.11.4"
  }
 },
 "nbformat": 4,
 "nbformat_minor": 5
}
