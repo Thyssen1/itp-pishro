{
 "cells": [
  {
   "cell_type": "markdown",
   "id": "e2055d44-ccce-4852-9390-34f2fb5fe440",
   "metadata": {},
   "source": [
    "### Problem 1.5.6"
   ]
  },
  {
   "cell_type": "markdown",
   "id": "2213c969-0a7f-455c-b676-aff8a7276a9a",
   "metadata": {},
   "source": [
    "Since \n",
    "\n",
    "$\\displaystyle B = \\sum_{i} |B A_i|$ \n",
    "\n",
    "we can write:\n",
    "\n",
    "$\\displaystyle |B| = |B \\cap A_1| + |B \\cap A_2| + |B \\cap A_3| = 10 + 20 + 25 = 55$"
   ]
  },
  {
   "cell_type": "markdown",
   "id": "e0db7fbd-7f02-48ba-a780-a7270784eb9c",
   "metadata": {},
   "source": []
  },
  {
   "cell_type": "markdown",
   "id": "0a4bbba0-ba56-4fe6-bf06-1383baa02a77",
   "metadata": {},
   "source": []
  }
 ],
 "metadata": {
  "kernelspec": {
   "display_name": "Python 3 (ipykernel)",
   "language": "python",
   "name": "python3"
  },
  "language_info": {
   "codemirror_mode": {
    "name": "ipython",
    "version": 3
   },
   "file_extension": ".py",
   "mimetype": "text/x-python",
   "name": "python",
   "nbconvert_exporter": "python",
   "pygments_lexer": "ipython3",
   "version": "3.11.4"
  }
 },
 "nbformat": 4,
 "nbformat_minor": 5
}
