{
 "cells": [
  {
   "cell_type": "markdown",
   "id": "b531ed2f-9603-4331-9219-87534ff59010",
   "metadata": {},
   "source": [
    "### Problem 1.5.33"
   ]
  },
  {
   "cell_type": "markdown",
   "id": "491dac98-dc82-4cec-814d-8ea410816e2d",
   "metadata": {},
   "source": [
    "In the problem, we assume that door 1 is picked WLOG.\n",
    "\n",
    "Let W be the event where we win a car if we switch.\n",
    "And let $C_i$ be the event where car is behind door $i$. Then:\n",
    "\n",
    "$P(C_i) = \\frac{1}{3}$\n",
    "\n",
    "and the probability of winning if we switch given $C_i$ is then:\n",
    "\n",
    "$P(W | C_2) = P(W | C_3) = 1$\n",
    "\n",
    "since if door 1 was chosen initially and car is behind door 2 or 3, Monty is forced to open the door with the goat behind it.\n",
    "Furthermore, if the car is behind door 1 and we switch, then:\n",
    "\n",
    "$P(W | C_1) = 0$\n",
    "\n",
    "Finally:\n",
    "\n",
    "$\\displaystyle P(W) = \\sum P(W|C_i) P(C_i) = \\frac{1}{3} + \\frac{1}{3} = \\frac{2}{3}$\n",
    "\n",
    "Thus, it would be in our favour to switch and in the long run on average we will win the game and get the car."
   ]
  },
  {
   "cell_type": "markdown",
   "id": "aaa7cb4c-83e7-47c8-8138-f28759ffd2df",
   "metadata": {},
   "source": []
  },
  {
   "cell_type": "markdown",
   "id": "1e003243-c45b-42b2-b72d-a8afbade16b9",
   "metadata": {},
   "source": []
  },
  {
   "cell_type": "markdown",
   "id": "0379142d-e87f-4258-8f6e-ede0b50c037a",
   "metadata": {},
   "source": []
  }
 ],
 "metadata": {
  "kernelspec": {
   "display_name": "Python 3 (ipykernel)",
   "language": "python",
   "name": "python3"
  },
  "language_info": {
   "codemirror_mode": {
    "name": "ipython",
    "version": 3
   },
   "file_extension": ".py",
   "mimetype": "text/x-python",
   "name": "python",
   "nbconvert_exporter": "python",
   "pygments_lexer": "ipython3",
   "version": "3.11.4"
  }
 },
 "nbformat": 4,
 "nbformat_minor": 5
}
