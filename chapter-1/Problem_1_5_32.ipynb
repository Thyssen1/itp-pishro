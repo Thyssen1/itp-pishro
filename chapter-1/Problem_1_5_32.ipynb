{
 "cells": [
  {
   "cell_type": "markdown",
   "id": "cbe743d7-0bd0-4d0f-8504-a536f92bac63",
   "metadata": {},
   "source": [
    "### Problem 1.5.32"
   ]
  },
  {
   "cell_type": "markdown",
   "id": "44dc31dc-9ae2-4909-9c7d-ab85c2ef7591",
   "metadata": {},
   "source": [
    "There are 4 possible paths (combinations of bridges being open that lead from the western to the eastern island):\n",
    "\n",
    "$\\{ B_{1} B_{5} \\}, \\{ B_{2} B_{4} \\}, \\{ B_{2} B_{3} B_{5} \\}, \\{ B_{1} B_{3} B_{5} \\}$"
   ]
  },
  {
   "cell_type": "markdown",
   "id": "90625cf9-2069-41c4-b0d8-0019207e94da",
   "metadata": {},
   "source": [
    "a)\n",
    "\n",
    "Thus:\n",
    "\n",
    "$P(A) = P( B_{1} B_{5} \\cup B_{2} B_{4} \\cup B_{2} B_{3} B_{5} \\cup B_{1} B_{3} B_{5} )$\n",
    "\n",
    "$P(A) = P(B_{1} B_{5}) + P(B_{2} B_{4}) + P(B_{2} B_{3} B_{5}) + P(B_{1} B_{3} B_{5})\n",
    "- P(B_{1} B_{2} B_{4} B_{5}) - P(B_{1} B_{2} B_{3} B_{5}) - P(B_{1} B_{3} B_{4} B_{5})\n",
    "- P(B_{2} B_{3} B_{4} B_{5}) - P(B_{1} B_{2} B_{3} B_{4})\n",
    "- P(B_{1} B_{2} B_{3} B_{4} B_{5})\n",
    "+ P(B_{1} B_{2} B_{3} B_{4} B_{5}) + P(B_{1} B_{2} B_{3} B_{4} B_{5})\n",
    "+ P(B_{1} B_{2} B_{3} B_{4} B_{5}) + P(B_{1} B_{2} B_{3} B_{4} B_{5})\n",
    "- P(B_{1} B_{2} B_{3} B_{4} B_{5})$\n",
    "\n",
    "which reduces to:\n",
    "\n",
    "$P_{1} P_{5} + P_{2} P_{4} + P_{2} P_{3} P_{5} + P_{1} P_{3} P_{4} \n",
    "- P_{1} P_{2} P_{4} P_{5} - P_{1} P_{2} P_{3} P_{5} - P_{1} P_{3} P_{4} P_{5} - P_{2} P_{3} P_{4} P_{5} - P_{1} P_{2} P_{3} P_{4}\n",
    "+ 2 P_{1} P_{2} P_{3} P_{4} P_{5}$"
   ]
  },
  {
   "cell_type": "markdown",
   "id": "3803102b-33ce-4eda-9341-f7ba7fa70bc9",
   "metadata": {},
   "source": [
    "We can check the validity by considering the case where all bridges are open all the time:\n",
    "\n",
    "$P(A) = 1 + 1 + 1 + 1 - 1 - 1 - 1 - 1 - 1 + 2 = 4 - 5 + 2 = 1$\n",
    "\n",
    "On the other side, when no bridges are open $P(A) = 0$."
   ]
  },
  {
   "cell_type": "markdown",
   "id": "10bf2617-ac8a-4afd-be59-0edc342707b4",
   "metadata": {},
   "source": [
    "In the case where $P_{3} = 1$ which means that bridge 3 is constantly open we would expect the probabilities to depend only on whether bridge 1 and bridge 4 or bridge 2 and 5 are open:\n",
    "\n",
    "$P(A) = P_{1} P_{5} + P_{2} + P_{4} - P_{1} P_{2} P_{4} P_{5}$\n",
    "\n",
    "which is exactly the case."
   ]
  },
  {
   "cell_type": "code",
   "execution_count": null,
   "id": "31f63826-a3c0-439c-9a78-54e37d18a8c1",
   "metadata": {},
   "outputs": [],
   "source": []
  }
 ],
 "metadata": {
  "kernelspec": {
   "display_name": "Python 3 (ipykernel)",
   "language": "python",
   "name": "python3"
  },
  "language_info": {
   "codemirror_mode": {
    "name": "ipython",
    "version": 3
   },
   "file_extension": ".py",
   "mimetype": "text/x-python",
   "name": "python",
   "nbconvert_exporter": "python",
   "pygments_lexer": "ipython3",
   "version": "3.11.4"
  }
 },
 "nbformat": 4,
 "nbformat_minor": 5
}
