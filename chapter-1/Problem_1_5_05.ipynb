{
 "cells": [
  {
   "cell_type": "markdown",
   "id": "9e7b8372-6b48-444b-92ec-8221acec690a",
   "metadata": {},
   "source": [
    "### Problem 1.5.5"
   ]
  },
  {
   "cell_type": "markdown",
   "id": "64416266-89ec-42d0-b0ba-f5dd65b1d1c0",
   "metadata": {},
   "source": [
    "$A = \\{ 1, 2, ..., 100 \\}$\n",
    "\n",
    "where \n",
    "\n",
    "$A_2 = \\{ 2, 4, 6, ..., 100 \\} = 2 \\{ 1, 2, 3, ..., 50 \\}$\n",
    "\n",
    "$A_3 = \\{ 3, 6, 9, ..., 99 \\} = 3 \\{ 1, 2, 3, ..., 33 \\}$\n",
    "\n",
    "$A_4 = \\{ 4, 8, 12, ..., 100 \\} = 4 \\{ 1, 2, 3, ..., 25 \\}$\n",
    "\n",
    "$A_5 = \\{ 5, 10, 15, ..., 100 \\} = 5 \\{ 1, 2, 3, ..., 20 \\}$"
   ]
  },
  {
   "cell_type": "markdown",
   "id": "a07f7da6-8895-466e-86f0-1fd7e9705d69",
   "metadata": {},
   "source": [
    "a)\n",
    "The results follow directly from above:\n",
    "\n",
    "$|A_2| = 50, |A_3| = 33, |A_4| = 25, |A_5| = 20$ "
   ]
  },
  {
   "cell_type": "markdown",
   "id": "f6f99ed1-22ae-430a-8665-9c0716c4570b",
   "metadata": {},
   "source": [
    "b)\n",
    "\n",
    "By the inclusion-exclusion principle we get:\n",
    "\n",
    "$|A_2 \\cup A_3 \\cup A_5| = |A_2| + |A_3| + |A_5| - |A_2 A_3| - |A_2 A_5| - |A_3 A_5| + |A_2 A_3 A_5|$\n",
    "\n",
    "where \n",
    "\n",
    "$|A_2 A_3| = | \\{ 6, ..., 96 \\} | = 16$\n",
    "\n",
    "$|A_2 A_5| = | \\{ 10, ..., 100 \\} | = 10$\n",
    "\n",
    "$|A_3 A_5| = | \\{ 15, ..., 90 \\} | = 6$\n",
    "\n",
    "$|A_2 A_3 A_5| = | 30 \\{ 1, 2, 3 \\} | = 3$\n",
    "\n",
    "which finally yields:\n",
    "\n",
    "$|A_2 \\cup A_3 \\cup A_5| = 74$"
   ]
  },
  {
   "cell_type": "code",
   "execution_count": null,
   "id": "7b375419-3d31-45b7-8624-fdcb9b4bf146",
   "metadata": {},
   "outputs": [],
   "source": []
  }
 ],
 "metadata": {
  "kernelspec": {
   "display_name": "Python 3 (ipykernel)",
   "language": "python",
   "name": "python3"
  },
  "language_info": {
   "codemirror_mode": {
    "name": "ipython",
    "version": 3
   },
   "file_extension": ".py",
   "mimetype": "text/x-python",
   "name": "python",
   "nbconvert_exporter": "python",
   "pygments_lexer": "ipython3",
   "version": "3.11.4"
  }
 },
 "nbformat": 4,
 "nbformat_minor": 5
}
