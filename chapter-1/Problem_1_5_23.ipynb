{
 "cells": [
  {
   "cell_type": "markdown",
   "id": "56ab287b-1d1c-41ef-b717-63539c0cae62",
   "metadata": {},
   "source": [
    "### Problem 1.5.23"
   ]
  },
  {
   "cell_type": "markdown",
   "id": "c677301b-2491-4ff0-95d6-f2ed4865d75e",
   "metadata": {},
   "source": [
    "a) $ \\displaystyle P(A | B) = \\frac{P(A \\cap B)}{P(B)} = \\frac{0.2}{0.35} = \\frac{4}{7}$"
   ]
  },
  {
   "cell_type": "markdown",
   "id": "f7b72cbd-3c63-493d-8db3-afe819192a5a",
   "metadata": {},
   "source": [
    "b) $P(C | B) = \\frac{ P(C \\cap B) }{ P(B) } = \\frac{3}{7}$"
   ]
  },
  {
   "cell_type": "markdown",
   "id": "3d4c04b1-7f26-42a4-8cdf-38d14d6ab824",
   "metadata": {},
   "source": [
    "c) $P(B | A \\cup C) = \\frac{ P(B \\cap (A \\cup B)) }{ P(A \\cup C) } = \\frac{5}{14}$"
   ]
  },
  {
   "cell_type": "markdown",
   "id": "281bed77-1cc4-4653-8691-af9f68529591",
   "metadata": {},
   "source": []
  },
  {
   "cell_type": "markdown",
   "id": "0c1f5447-4240-42e3-97e7-a08b79626167",
   "metadata": {},
   "source": []
  }
 ],
 "metadata": {
  "kernelspec": {
   "display_name": "Python 3 (ipykernel)",
   "language": "python",
   "name": "python3"
  },
  "language_info": {
   "codemirror_mode": {
    "name": "ipython",
    "version": 3
   },
   "file_extension": ".py",
   "mimetype": "text/x-python",
   "name": "python",
   "nbconvert_exporter": "python",
   "pygments_lexer": "ipython3",
   "version": "3.11.4"
  }
 },
 "nbformat": 4,
 "nbformat_minor": 5
}
