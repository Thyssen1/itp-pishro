{
 "cells": [
  {
   "cell_type": "markdown",
   "id": "bb292445-fcd7-470f-90dc-91082c28abc2",
   "metadata": {},
   "source": [
    "### Problem 1.5.15"
   ]
  },
  {
   "cell_type": "markdown",
   "id": "8cb3ecd0-9dbc-4ec9-a238-c4d3a3ce5713",
   "metadata": {},
   "source": [
    "a) $P(X_{2} = 4) = \\frac{1}{6}$ since $X_{2} = \\{1, ..., 6\\}, |X_{2}| = 6$"
   ]
  },
  {
   "cell_type": "markdown",
   "id": "0c46975b-626e-428e-9026-5578cef9eb27",
   "metadata": {},
   "source": [
    "b) $P(X_{1} + X_{2} = 7) = \\frac{6}{36} = \\frac{1}{6}$ since the events that satisfy the condition are \n",
    "$ \\{ X_{1}, X_{2} \\} = \\{ (1,6), (2,5), (3,4), (4,3), (5,2), (6,1) \\}$"
   ]
  },
  {
   "cell_type": "markdown",
   "id": "8fdc6bd4-b178-4357-bcc7-879b7715762c",
   "metadata": {},
   "source": [
    "c) \n",
    "\n",
    "$P(X_{1} \\neq 2 \\cap X_{2} \\geq 4) = P(X_{1} \\neq 2) P(X_{2} \\geq 4)  = \\frac{5}{6} \\frac{3}{6} = \\frac{15}{36}$"
   ]
  },
  {
   "cell_type": "code",
   "execution_count": null,
   "id": "79157939-ad5b-4fde-8b5c-01372afc039c",
   "metadata": {},
   "outputs": [],
   "source": []
  }
 ],
 "metadata": {
  "kernelspec": {
   "display_name": "Python 3 (ipykernel)",
   "language": "python",
   "name": "python3"
  },
  "language_info": {
   "codemirror_mode": {
    "name": "ipython",
    "version": 3
   },
   "file_extension": ".py",
   "mimetype": "text/x-python",
   "name": "python",
   "nbconvert_exporter": "python",
   "pygments_lexer": "ipython3",
   "version": "3.12.4"
  }
 },
 "nbformat": 4,
 "nbformat_minor": 5
}
