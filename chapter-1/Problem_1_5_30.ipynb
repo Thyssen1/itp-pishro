{
 "cells": [
  {
   "cell_type": "markdown",
   "id": "4e8c2446-cf28-4778-b9cb-dcff3e791395",
   "metadata": {},
   "source": [
    "### Problem 1.5.30"
   ]
  },
  {
   "cell_type": "markdown",
   "id": "6cdcb7b7-bbef-46fc-bb9f-af0c74d079f3",
   "metadata": {},
   "source": []
  },
  {
   "cell_type": "markdown",
   "id": "64317389-62bd-4301-91ed-755d55b93e07",
   "metadata": {},
   "source": []
  },
  {
   "cell_type": "markdown",
   "id": "f920039c-ba11-43d0-b964-8babf716d499",
   "metadata": {},
   "source": []
  }
 ],
 "metadata": {
  "kernelspec": {
   "display_name": "Python 3 (ipykernel)",
   "language": "python",
   "name": "python3"
  },
  "language_info": {
   "codemirror_mode": {
    "name": "ipython",
    "version": 3
   },
   "file_extension": ".py",
   "mimetype": "text/x-python",
   "name": "python",
   "nbconvert_exporter": "python",
   "pygments_lexer": "ipython3",
   "version": "3.11.4"
  }
 },
 "nbformat": 4,
 "nbformat_minor": 5
}
