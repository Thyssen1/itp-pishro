{
 "cells": [
  {
   "cell_type": "markdown",
   "id": "084e32ff-9041-4ef5-8c7e-bdaddeb8615e",
   "metadata": {},
   "source": [
    "### Problem 1.5.35"
   ]
  },
  {
   "cell_type": "markdown",
   "id": "2b88a90b-4a27-4e5e-921b-603913967f00",
   "metadata": {},
   "source": [
    "Let:\n",
    "\n",
    "$W$ be the event where he wins.\n",
    "\n",
    "$H$ be the event where the first coin toss is heads.\n",
    "\n",
    "$T$ be the event where the first coin toss is tails.\n",
    "\n",
    "Then\n",
    "\n",
    "$\\displaystyle  P(H | W ) = \\frac{P(W|H) P(H)}{P(W)}$"
   ]
  },
  {
   "cell_type": "markdown",
   "id": "308f4fad-f2fe-4afa-9f60-685a0e194303",
   "metadata": {},
   "source": [
    "We already know how to find $P(W|H)$ and $P(W|T)$ from the example problem in the book:\n",
    "\n",
    "$\\displaystyle P(W|H) = P( \\{ HH, HTHH, HTHTHH, ... \\} ) = p + p^2 q + p^3 q^2 + ... + = p (1 + pq + p^2 q^2 + ... + ) = p \\frac{1}{1-pq}$\n",
    "\n",
    "$\\displaystyle P(W|T) = P( \\{ THH, THTHH, THTHTHH, ... \\} ) = p^2 + p^3 q + p^4 q^2 + ... + = p^2 (1 + pq + p^2 q^2 + ... + ) = p^2 \\frac{1}{1-pq}$\n",
    "\n",
    "since this is the geometric sum where $pq < 1$.\n",
    "\n",
    "where we note the difference in the result with respect to the example is due to the condition that the first toss is either heads or tails."
   ]
  },
  {
   "cell_type": "markdown",
   "id": "35ebb59a-3c83-43c9-abc5-c500591fff07",
   "metadata": {},
   "source": [
    "$\\displaystyle  P(W) = P(W|H) P(H) + P(W|T) P(T) = \\frac{ p^2 (1+q) }{1 - pq}$"
   ]
  },
  {
   "cell_type": "code",
   "execution_count": null,
   "id": "5aa2089f-72ab-4940-8b8c-926ad6953902",
   "metadata": {},
   "outputs": [],
   "source": []
  }
 ],
 "metadata": {
  "kernelspec": {
   "display_name": "Python 3 (ipykernel)",
   "language": "python",
   "name": "python3"
  },
  "language_info": {
   "codemirror_mode": {
    "name": "ipython",
    "version": 3
   },
   "file_extension": ".py",
   "mimetype": "text/x-python",
   "name": "python",
   "nbconvert_exporter": "python",
   "pygments_lexer": "ipython3",
   "version": "3.11.4"
  }
 },
 "nbformat": 4,
 "nbformat_minor": 5
}
