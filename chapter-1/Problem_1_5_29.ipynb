{
 "cells": [
  {
   "cell_type": "markdown",
   "id": "915ef111-38d1-4c2a-9a9b-67e23c41a625",
   "metadata": {},
   "source": [
    "### Problem 1.5.29"
   ]
  },
  {
   "cell_type": "markdown",
   "id": "b15efa92-a944-42d4-a4fc-b02dc4fadb4d",
   "metadata": {},
   "source": [
    "a)\n",
    "\n",
    "Since the 3 components are independent we have:\n",
    "\n",
    "$P(A) = P(C_{1} \\cap C_{2} \\cap C_{3}) = P_{1} P_{2} P_{3}$\n"
   ]
  },
  {
   "cell_type": "markdown",
   "id": "71f29122-6db2-4c77-bd23-c0b7c567148e",
   "metadata": {},
   "source": [
    "b)\n",
    "\n",
    "$P(A) = P(C_{1} \\cup C_{2} \\cup C_{3} = 1 - P( [C_{1} \\cup C_{2} \\cup C_{3}]^{C}) = 1 - (1-P_{1}) (1-P_{2}) (1-P_{3})$"
   ]
  },
  {
   "cell_type": "markdown",
   "id": "2ef6c32c-0c79-4f1a-8b7b-e9312d80b143",
   "metadata": {},
   "source": [
    "c)\n",
    "\n",
    "$P(A) = P( (C_{1} \\cup C_{2}) \\cap C_{3}) = [1 - (1-P_{1})(1-P_{2})] P_{3}$"
   ]
  },
  {
   "cell_type": "markdown",
   "id": "ea04283a-55ad-4c6e-9b04-82de25f1eb25",
   "metadata": {},
   "source": [
    "d)\n",
    "\n",
    "$P(A) = P( (C_{1} \\cap C_{2}) \\cup C_{3}) = 1 - (1 - P_{1} P_{2}) (1 - P_{3}) $"
   ]
  },
  {
   "cell_type": "markdown",
   "id": "81cafb0a-abd3-46cc-be2d-4302e5fca7f0",
   "metadata": {},
   "source": [
    "e)\n",
    "\n",
    "$P(A) = P( (C_{1} \\cap C_{2}) \\cup (C_{3} \\cap C_{4}) \\cap C_{5}) = [1 - (1 - P_{1} P_{2}) (1-P_{3} P_{4})] P_{5}$"
   ]
  },
  {
   "cell_type": "markdown",
   "id": "cd3878bd-9546-4004-b328-f4da4dd7830e",
   "metadata": {},
   "source": []
  }
 ],
 "metadata": {
  "kernelspec": {
   "display_name": "Python 3 (ipykernel)",
   "language": "python",
   "name": "python3"
  },
  "language_info": {
   "codemirror_mode": {
    "name": "ipython",
    "version": 3
   },
   "file_extension": ".py",
   "mimetype": "text/x-python",
   "name": "python",
   "nbconvert_exporter": "python",
   "pygments_lexer": "ipython3",
   "version": "3.11.4"
  }
 },
 "nbformat": 4,
 "nbformat_minor": 5
}
