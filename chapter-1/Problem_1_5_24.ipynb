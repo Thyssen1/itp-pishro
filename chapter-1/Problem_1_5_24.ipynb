{
 "cells": [
  {
   "cell_type": "markdown",
   "id": "04646e8c-112b-4c94-815c-fdde2cc30a3b",
   "metadata": {},
   "source": [
    "### Problem 1.5.24"
   ]
  },
  {
   "cell_type": "markdown",
   "id": "db49fddc-bbc1-42b9-95c5-c7c3df23de84",
   "metadata": {},
   "source": [
    "Let $S = [0,10]$ be the universal set."
   ]
  },
  {
   "cell_type": "markdown",
   "id": "077e0d3b-0992-4e8e-b7f3-27ca820aa6ad",
   "metadata": {},
   "source": [
    "a) Here the relevant interval is of length 3 divided by the entire length:\n",
    "\n",
    "$ \\displaystyle P(2 \\leq X \\leq 5) = \\frac{ 3 }{ 10 }$"
   ]
  },
  {
   "cell_type": "markdown",
   "id": "9ea652c2-c8c8-4718-8b42-6bb233a98381",
   "metadata": {},
   "source": [
    "b) In this case the interval is restricted to [0,5] and thus\n",
    "\n",
    "$ \\displaystyle P(X \\leq 2 | X \\leq 5) = \\frac{2}{5}$"
   ]
  },
  {
   "cell_type": "markdown",
   "id": "42cd4dff-73c3-4c29-a7be-c301f8be76b9",
   "metadata": {},
   "source": [
    "c) In this case, we consider the interval [4,8] over [4,10] which are of lengths 4 and 6:\n",
    "\n",
    "$\\displaystyle P(3 \\leq X \\leq 8 | X \\leq 4) = \\frac{ P(4 \\leq X \\leq 8) }{ P(X \\geq 4)} = \\frac{2}{3}$"
   ]
  }
 ],
 "metadata": {
  "kernelspec": {
   "display_name": "Python 3 (ipykernel)",
   "language": "python",
   "name": "python3"
  },
  "language_info": {
   "codemirror_mode": {
    "name": "ipython",
    "version": 3
   },
   "file_extension": ".py",
   "mimetype": "text/x-python",
   "name": "python",
   "nbconvert_exporter": "python",
   "pygments_lexer": "ipython3",
   "version": "3.11.4"
  }
 },
 "nbformat": 4,
 "nbformat_minor": 5
}
