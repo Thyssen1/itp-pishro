{
 "cells": [
  {
   "cell_type": "markdown",
   "id": "b42c3dc0-f461-4305-bf89-373f1aaa6ba6",
   "metadata": {},
   "source": [
    "### Problem 1.5.31"
   ]
  },
  {
   "cell_type": "markdown",
   "id": "f37a0fb2-ef2b-49db-addc-5b80d516f3c3",
   "metadata": {},
   "source": [
    "Let the probability of getting spam be $P(S) = \\frac{1}{2} = P(\\bar{S})$.\n",
    "\n",
    "In addition, the probability that the email contains a word refinance is given that it is spam and the case where it is not are:\n",
    "\n",
    "$\\displaystyle P(R | S) = \\frac{1}{100}$\n",
    "\n",
    "$\\displaystyle P(R | \\bar{S}) = \\frac{1}{100000}$"
   ]
  },
  {
   "cell_type": "markdown",
   "id": "422ad099-0eef-4dc6-b865-b809c95209e5",
   "metadata": {},
   "source": [
    "Then:\n",
    "\n",
    "$\\displaystyle P(S | R) = \\frac{ P(R|S) P(S) }{ P(R) } = \\frac{ P(R|S) P(S) }{ P(R|S) P(S) + P(R|\\bar{S}) P(\\bar{S}) }$\n",
    "\n",
    "which evaluates to:\n",
    "\n",
    "$\\displaystyle P(S|R)  \\frac{ \\frac{1}{100} }{ \\frac{1}{100} + \\frac{1}{100000} } = \\frac{1000}{1000 + 1} = \\frac{1000}{1001} \\approx 0.999$"
   ]
  },
  {
   "cell_type": "markdown",
   "id": "75989e9b-f508-49f4-9524-418034235098",
   "metadata": {},
   "source": []
  },
  {
   "cell_type": "markdown",
   "id": "3c0067e4-2152-4acd-bdd9-136584f1fc77",
   "metadata": {},
   "source": []
  }
 ],
 "metadata": {
  "kernelspec": {
   "display_name": "Python 3 (ipykernel)",
   "language": "python",
   "name": "python3"
  },
  "language_info": {
   "codemirror_mode": {
    "name": "ipython",
    "version": 3
   },
   "file_extension": ".py",
   "mimetype": "text/x-python",
   "name": "python",
   "nbconvert_exporter": "python",
   "pygments_lexer": "ipython3",
   "version": "3.11.4"
  }
 },
 "nbformat": 4,
 "nbformat_minor": 5
}
