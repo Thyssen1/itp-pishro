{
 "cells": [
  {
   "cell_type": "markdown",
   "id": "f774b496-af9f-41a5-abda-25b1cc363bdd",
   "metadata": {},
   "source": [
    "### Problem 1.5.27"
   ]
  },
  {
   "cell_type": "markdown",
   "id": "9c8ff054-24f6-4762-9c8e-22b46d7717d2",
   "metadata": {},
   "source": [
    "We are given the information:\n",
    "\n",
    "$P(G) = 0.8$\n",
    "\n",
    "$P(G^{C}) = 0.2$\n",
    "\n",
    "$P(E|G) = 0.1$\n",
    "\n",
    "$P(E|G^{C}) = 0.3$"
   ]
  },
  {
   "cell_type": "markdown",
   "id": "48e414e2-422f-44e0-be8f-e18c41658d8a",
   "metadata": {},
   "source": [
    "a)\n",
    "\n",
    "We find that:\n",
    "\n",
    "$P(G \\cap E) = P(G) P(E|G) = 0.8 \\cdot 0.1 = 0.08$\n",
    "\n",
    "$P(G \\cap E^{C}) = P(G) - P(G \\cap E) = 0.8 - 0.08 = 0.72$\n",
    "\n",
    "$P(G^{C} \\cap E) = P(G^{C}) P(E|G^{C}) = 0.2 \\cdot 0.3 = 0.06$\n",
    "\n",
    "$P(G^{C} \\cap E^{C}) = P(G^{C}) - P(G^{C} \\cap E) = 0.2 - 0.06 = 0.14$\n",
    "\n",
    "$P(E^{C} | G) = \\frac{ P(E^{C} G) }{ P(G) } = \\frac{0.72}{0.8} = 0.9$\n",
    "\n",
    "$P(E^{C} | G^{C}) = \\frac{ P(E^{C} G^{C} }{ P(G^{C}) } = \\frac{0.14}{0.2} = 0.7$"
   ]
  },
  {
   "cell_type": "markdown",
   "id": "ca63a8c6-1bf7-4350-90c9-a8421ba8a716",
   "metadata": {},
   "source": [
    "b)\n",
    "\n",
    "$P(E) = P(E \\cap G) + P(E \\cap G^{C}) = P(E|G) P(G) + P(E|G^{C}) P(G^{C}) = 0.1 \\cdot 0.8 + 0.3 \\cdot 0.2 = 0.14$"
   ]
  },
  {
   "cell_type": "markdown",
   "id": "6879dca3-cefd-4972-b254-ed1901d1f8d2",
   "metadata": {},
   "source": [
    "c)\n",
    "\n",
    "$P(G|E^{C}) = \\frac{ P(E^{C} | G) P(G) }{ P(E^{C}) } = \\frac{0.72}{0.86}$\n",
    "\n",
    "which evaluates to approximately 0.84:"
   ]
  },
  {
   "cell_type": "code",
   "execution_count": 1,
   "id": "1a63f42b-c8e1-4904-ad46-8b6cd82ef6fe",
   "metadata": {},
   "outputs": [
    {
     "data": {
      "text/plain": [
       "0.8372093023255813"
      ]
     },
     "execution_count": 1,
     "metadata": {},
     "output_type": "execute_result"
    }
   ],
   "source": [
    "0.72/0.86"
   ]
  },
  {
   "cell_type": "code",
   "execution_count": null,
   "id": "db796dae-0826-4de0-b2be-8d9994dabb6d",
   "metadata": {},
   "outputs": [],
   "source": []
  }
 ],
 "metadata": {
  "kernelspec": {
   "display_name": "Python 3 (ipykernel)",
   "language": "python",
   "name": "python3"
  },
  "language_info": {
   "codemirror_mode": {
    "name": "ipython",
    "version": 3
   },
   "file_extension": ".py",
   "mimetype": "text/x-python",
   "name": "python",
   "nbconvert_exporter": "python",
   "pygments_lexer": "ipython3",
   "version": "3.12.4"
  }
 },
 "nbformat": 4,
 "nbformat_minor": 5
}
