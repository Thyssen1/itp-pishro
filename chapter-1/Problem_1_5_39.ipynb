{
 "cells": [
  {
   "cell_type": "markdown",
   "id": "e427c175-dc9b-41d3-a1c7-b03ea8a2dcb6",
   "metadata": {},
   "source": [
    "### Problem 1.5.39"
   ]
  },
  {
   "cell_type": "markdown",
   "id": "82558447-f86a-43a4-8937-06193a429d15",
   "metadata": {},
   "source": [
    "Let G be the event where all the children are girls.\n",
    "Let $G_{r}$ be the event that a randomly chosen child is girl.\n",
    "\n",
    "Then the probability that both children are girls given $G_{r}$ is:\n",
    "\n",
    "$\\displaystyle P(G|G_{r}) = \\frac{ P(G_{r} G) P(G) }{ P(G_{r}) } = \\frac{P(G)}{P(G_{r})} = \\frac{1}{2^{n-1}}$"
   ]
  },
  {
   "cell_type": "markdown",
   "id": "e23b3a2e-d16c-4fb8-ae0c-248489888286",
   "metadata": {},
   "source": [
    "This is because:\n",
    "\n",
    "$P(G_{r}) = \\frac{1}{2}$\n",
    "\n",
    "$P(G_{r} | G) = 1$\n",
    "\n",
    "$P(G) = \\frac{1}{2^{n}}$\n",
    "\n",
    "since we assume that a child can be a boy or girl with probability 50%."
   ]
  },
  {
   "cell_type": "markdown",
   "id": "4af2df07-1763-48b4-876b-d9545b25e3ee",
   "metadata": {},
   "source": []
  }
 ],
 "metadata": {
  "kernelspec": {
   "display_name": "Python 3 (ipykernel)",
   "language": "python",
   "name": "python3"
  },
  "language_info": {
   "codemirror_mode": {
    "name": "ipython",
    "version": 3
   },
   "file_extension": ".py",
   "mimetype": "text/x-python",
   "name": "python",
   "nbconvert_exporter": "python",
   "pygments_lexer": "ipython3",
   "version": "3.11.4"
  }
 },
 "nbformat": 4,
 "nbformat_minor": 5
}
