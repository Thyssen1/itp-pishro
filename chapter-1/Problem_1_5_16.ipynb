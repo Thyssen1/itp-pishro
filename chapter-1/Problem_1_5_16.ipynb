{
 "cells": [
  {
   "cell_type": "markdown",
   "id": "91cc69e3-531a-4681-afa6-06d1062c87fa",
   "metadata": {},
   "source": [
    "### Problem 1.5.16"
   ]
  },
  {
   "cell_type": "markdown",
   "id": "081a9ccc-4256-4762-be31-d21804ff54f2",
   "metadata": {},
   "source": [
    "$S = \\{ 1, 2, 3, ... \\},\n",
    "P(k) = \\frac{c}{3^{k}}$"
   ]
  },
  {
   "cell_type": "markdown",
   "id": "861a81a7-4219-4d5b-a3bc-1d54d459a73f",
   "metadata": {},
   "source": [
    "a)\n",
    "\n",
    "$\\displaystyle \\sum_{i=0}^{\\infty} \\frac{c}{3^{k}} = 1 \\implies \\sum_{i=0}^{\\infty} \\frac{c}{3} (\\frac{1}{3})^{k} = \\frac{c}{3} \\frac{3}{2} = \\frac{c}{2} = 1 \\implies c = 2$"
   ]
  },
  {
   "cell_type": "markdown",
   "id": "ca7bd183-583b-4500-b923-db9c50ec4f16",
   "metadata": {},
   "source": [
    "b)\n",
    "\n",
    "$P( \\{ 2,4,6 \\}) = P(2) + P(4) + P(6) = \\frac{2}{3^2} + \\frac{2}{3^4} + \\frac{2}{3^6} = \\frac{20}{81}$"
   ]
  },
  {
   "cell_type": "markdown",
   "id": "97704e12-8aef-4ad8-a157-f4490d5dd736",
   "metadata": {},
   "source": [
    "c)\n",
    "\n",
    "$P(\\{3,4,5,...\\}) = 1 - P(1) - P(2) = 1 - \\frac{2}{3} - \\frac{2}{3^2} = \\frac{1}{9}$"
   ]
  },
  {
   "cell_type": "code",
   "execution_count": null,
   "id": "c029d4c1-d8af-409a-8213-2ba197b3a749",
   "metadata": {},
   "outputs": [],
   "source": []
  }
 ],
 "metadata": {
  "kernelspec": {
   "display_name": "Python 3 (ipykernel)",
   "language": "python",
   "name": "python3"
  },
  "language_info": {
   "codemirror_mode": {
    "name": "ipython",
    "version": 3
   },
   "file_extension": ".py",
   "mimetype": "text/x-python",
   "name": "python",
   "nbconvert_exporter": "python",
   "pygments_lexer": "ipython3",
   "version": "3.12.4"
  }
 },
 "nbformat": 4,
 "nbformat_minor": 5
}
