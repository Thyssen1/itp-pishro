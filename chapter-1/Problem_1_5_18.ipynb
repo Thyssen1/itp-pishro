{
 "cells": [
  {
   "cell_type": "markdown",
   "id": "ddbac9f1-e0fe-49d2-8880-259ef2447898",
   "metadata": {},
   "source": [
    "### Problem 1.5.18"
   ]
  },
  {
   "cell_type": "markdown",
   "id": "04ab464c-074c-45e1-9710-6e2f767b7952",
   "metadata": {},
   "source": [
    "a) $P(T \\leq 1) = \\frac{1}{16} 1^{2} = \\frac{1}{16}$"
   ]
  },
  {
   "cell_type": "markdown",
   "id": "ad3ce767-f8fa-4321-b948-4a0b6da9e587",
   "metadata": {},
   "source": [
    "b) $P(T \\geq 2) = 1 - P(T \\leq 2) = 1 - \\frac{1}{16} 2^{2} = 1 - \\frac{4}{16} = \\frac{3}{4}$"
   ]
  },
  {
   "cell_type": "markdown",
   "id": "79af9e6c-896a-4c2e-b6b1-0f23a8a0f09c",
   "metadata": {},
   "source": [
    "c) $P(1 \\leq T \\leq 3) = P(T \\leq 3) - P(T \\leq 1) = \\frac{1}{6} 3^{2} - \\frac{1}{16} 2^{2} = \\frac{5}{16}$"
   ]
  },
  {
   "cell_type": "code",
   "execution_count": null,
   "id": "79ef0dfa-3321-4f42-a313-ccb2bf790124",
   "metadata": {},
   "outputs": [],
   "source": []
  }
 ],
 "metadata": {
  "kernelspec": {
   "display_name": "Python 3 (ipykernel)",
   "language": "python",
   "name": "python3"
  },
  "language_info": {
   "codemirror_mode": {
    "name": "ipython",
    "version": 3
   },
   "file_extension": ".py",
   "mimetype": "text/x-python",
   "name": "python",
   "nbconvert_exporter": "python",
   "pygments_lexer": "ipython3",
   "version": "3.11.4"
  }
 },
 "nbformat": 4,
 "nbformat_minor": 5
}
