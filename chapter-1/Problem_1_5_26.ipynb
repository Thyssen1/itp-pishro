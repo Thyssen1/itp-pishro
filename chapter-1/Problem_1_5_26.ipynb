{
 "cells": [
  {
   "cell_type": "markdown",
   "id": "f3ddd89e-7327-4564-8cf4-663947f36088",
   "metadata": {},
   "source": [
    "### Problem 1.5.26"
   ]
  },
  {
   "cell_type": "markdown",
   "id": "0fde3436-e937-486d-82aa-e44660a44a4e",
   "metadata": {},
   "source": [
    "The set of results is $\\{ X_{1}, ... , X_{n} \\} = \\{1,2,3,4,6\\}^{n}$\n",
    "\n",
    "Let $E_{1}$ be the event that number 1 is not observed in n dice rolls.\n",
    "Let $E_{6}$ be the event that number 6 is not observed in n dice rolls.\n",
    "\n",
    "Furthermore, we let A be the event that at least one 1 and at least one 6 is observed in n dice rolls.\n",
    "Since \"at least\" suggests that it will be easier to find the probability of the complamentary event, $A^{C}$:\n",
    "\n",
    "$P(A) = 1 - P(A^{C}) = 1 - [ P(E_{1}) + P(E_{6}) + P(E_{1} \\cap E_{6})] = 1 - \\frac{5}{6}^{n} - \\frac{5}{6}^{n} + \\frac{4}{6}^{n}$\n",
    "\n",
    "which can be reduced to:\n",
    "\n",
    "$\\displaystyle P(A) = 1 - 2 (\\frac{5}{6})^{n} + (\\frac{2}{3})^{n}$"
   ]
  },
  {
   "cell_type": "markdown",
   "id": "89192614-f50e-4bbf-a1f2-31db586a8351",
   "metadata": {},
   "source": [
    "We can sanity check for $n=1$ where we cannot get both a 1 and a 6:\n",
    "\n",
    "$P(A) = 1 - 2 + 1 = 0$\n",
    "\n",
    "And for $n=2$ we should get:\n",
    "\n",
    "$P(A) = 1 - 2 \\frac{5}{6}  + \\frac{2}{3} =  "
   ]
  },
  {
   "cell_type": "code",
   "execution_count": 8,
   "id": "ef9e7fb1-9022-41a3-a37d-127d7f85189b",
   "metadata": {},
   "outputs": [
    {
     "data": {
      "text/plain": [
       "0.05555555555555536"
      ]
     },
     "execution_count": 8,
     "metadata": {},
     "output_type": "execute_result"
    }
   ],
   "source": [
    "1 - 2*(5/6)**2 + (2/3)**2"
   ]
  },
  {
   "cell_type": "markdown",
   "id": "1abad487-54a2-4e5c-af05-583c0ea4f5f3",
   "metadata": {},
   "source": [
    "which matches the 2 favourable outcomes (1,6) and (6,1) out of 36 outcomes: 2/36 = 1/18:"
   ]
  },
  {
   "cell_type": "code",
   "execution_count": 9,
   "id": "463caf54-a9d7-4f01-80cd-43caf9e746d2",
   "metadata": {},
   "outputs": [
    {
     "data": {
      "text/plain": [
       "0.05555555555555555"
      ]
     },
     "execution_count": 9,
     "metadata": {},
     "output_type": "execute_result"
    }
   ],
   "source": [
    "2/36"
   ]
  },
  {
   "cell_type": "code",
   "execution_count": null,
   "id": "d810d57f-d8a1-403e-b504-46a0c68b575c",
   "metadata": {},
   "outputs": [],
   "source": []
  }
 ],
 "metadata": {
  "kernelspec": {
   "display_name": "Python 3 (ipykernel)",
   "language": "python",
   "name": "python3"
  },
  "language_info": {
   "codemirror_mode": {
    "name": "ipython",
    "version": 3
   },
   "file_extension": ".py",
   "mimetype": "text/x-python",
   "name": "python",
   "nbconvert_exporter": "python",
   "pygments_lexer": "ipython3",
   "version": "3.11.4"
  }
 },
 "nbformat": 4,
 "nbformat_minor": 5
}
