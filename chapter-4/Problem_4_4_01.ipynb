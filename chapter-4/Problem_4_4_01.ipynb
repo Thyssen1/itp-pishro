{
 "cells": [
  {
   "cell_type": "markdown",
   "id": "1d3e76f0-266e-4217-ab0e-946653e2aebe",
   "metadata": {},
   "source": [
    "### Problem 4.4.1"
   ]
  },
  {
   "cell_type": "markdown",
   "id": "6166cf41-5066-4273-bc62-8d482558089e",
   "metadata": {},
   "source": []
  },
  {
   "cell_type": "markdown",
   "id": "d6283930-3df5-4061-970a-6d22e74aeeba",
   "metadata": {},
   "source": []
  },
  {
   "cell_type": "markdown",
   "id": "f3c76f65-aa87-4a4a-8a5d-324f85138289",
   "metadata": {},
   "source": []
  }
 ],
 "metadata": {
  "kernelspec": {
   "display_name": "Python 3 (ipykernel)",
   "language": "python",
   "name": "python3"
  },
  "language_info": {
   "codemirror_mode": {
    "name": "ipython",
    "version": 3
   },
   "file_extension": ".py",
   "mimetype": "text/x-python",
   "name": "python",
   "nbconvert_exporter": "python",
   "pygments_lexer": "ipython3",
   "version": "3.11.4"
  }
 },
 "nbformat": 4,
 "nbformat_minor": 5
}
