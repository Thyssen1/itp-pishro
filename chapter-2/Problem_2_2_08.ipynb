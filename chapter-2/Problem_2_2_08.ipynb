{
 "cells": [
  {
   "cell_type": "markdown",
   "id": "fdc6d23e-d897-4796-90fd-82bd24b49970",
   "metadata": {},
   "source": [
    "### Problem 2.2.8"
   ]
  },
  {
   "cell_type": "markdown",
   "id": "fd911f1a-a54f-4ba3-9585-2c45c525f1bb",
   "metadata": {},
   "source": [
    "The number of letters are:\n",
    "M: 1, a:2, s:4, c: 1, h: 1, u: 1, e: 1, t: 2\n",
    "\n",
    "Then the number of combinations are:\n",
    "\n",
    "$\\displaystyle \\binom{13}{1} \\binom{12}{2} \\binom{10}{4} \\binom{6}{1} \\binom{5}{1} \\binom{4}{1} \\binom{3}{1} \\binom{2}{2} \n",
    "= \\frac{13!}{12!} \\frac{12!}{10!2!} \\frac{10!}{4!6!} \\frac{6!}{5!} \\frac{5!}{4!} \\frac{4!}{3!} \\frac{3!}{2!} \\frac{2!}{2!0!} = \\frac{13!}{2!4!2!} = \\frac{13!}{96}$"
   ]
  },
  {
   "cell_type": "code",
   "execution_count": 2,
   "id": "da118d5e-5fb3-442f-b9a2-3dd64ec1b637",
   "metadata": {},
   "outputs": [
    {
     "data": {
      "text/plain": [
       "64864800.0"
      ]
     },
     "execution_count": 2,
     "metadata": {},
     "output_type": "execute_result"
    }
   ],
   "source": [
    "import math\n",
    "math.factorial(13) / 96"
   ]
  },
  {
   "cell_type": "markdown",
   "id": "adf8cc3f-9dee-4ef9-bddc-a19e67eee639",
   "metadata": {},
   "source": [
    "Thus there are exactly 64,864,800 different ways to rearrange the letters in Massachusetts."
   ]
  }
 ],
 "metadata": {
  "kernelspec": {
   "display_name": "Python 3 (ipykernel)",
   "language": "python",
   "name": "python3"
  },
  "language_info": {
   "codemirror_mode": {
    "name": "ipython",
    "version": 3
   },
   "file_extension": ".py",
   "mimetype": "text/x-python",
   "name": "python",
   "nbconvert_exporter": "python",
   "pygments_lexer": "ipython3",
   "version": "3.11.4"
  }
 },
 "nbformat": 4,
 "nbformat_minor": 5
}
