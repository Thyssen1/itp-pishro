{
 "cells": [
  {
   "cell_type": "markdown",
   "id": "4a67af5a-2e3e-4fbd-aad2-c6951ff99551",
   "metadata": {},
   "source": [
    "### Problem 2.2.3"
   ]
  },
  {
   "cell_type": "markdown",
   "id": "41d2fb79-e580-4b1c-b419-18e1039f3826",
   "metadata": {},
   "source": [
    "This is an unordered sampling without replacement problem.\n",
    "Overall there are:\n",
    "\n",
    "$\\displaystyle S = \\binom{50}{10}$ \n",
    "\n",
    "ways to pick 10 phones."
   ]
  },
  {
   "cell_type": "markdown",
   "id": "fbcde815-fc66-4c98-b162-995b5e14014a",
   "metadata": {},
   "source": [
    "a)\n",
    "There are:\n",
    "\n",
    "$\\displaystyle |A_{4}| = \\binom{20}{4} \\binom{30}{6}$\n",
    "\n",
    "ways to pick 4 black and 6 white phones.\n",
    "Thus:\n",
    "\n",
    "$\\displaystyle P(k=4) = \\frac{|A_{4}|}{|S|} = \\frac{ \\binom{20}{4} \\binom{30}{6} }{ \\binom{50}{10} }$"
   ]
  },
  {
   "cell_type": "markdown",
   "id": "65d93b35-038e-4fab-a5f2-17ad83678fd6",
   "metadata": {},
   "source": [
    "b) The probability that there will be less than 3 black phones in a sample of 10 phones is:\n",
    "\n",
    "$\\displaystyle P(k < 3) = P(0) + P(1) + P(2) = \n",
    "\\frac{ \\binom{20}{0} \\binom{30}{10} }{ \\binom{50}{10} } +\n",
    "\\frac{ \\binom{20}{1} \\binom{30}{9} }{ \\binom{50}{10} } +\n",
    "\\frac{ \\binom{20}{2} \\binom{30}{8} }{ \\binom{50}{10} }$"
   ]
  },
  {
   "cell_type": "markdown",
   "id": "3fcb36fe-461b-4ed8-996f-c4c0edfd4d35",
   "metadata": {},
   "source": []
  }
 ],
 "metadata": {
  "kernelspec": {
   "display_name": "Python 3 (ipykernel)",
   "language": "python",
   "name": "python3"
  },
  "language_info": {
   "codemirror_mode": {
    "name": "ipython",
    "version": 3
   },
   "file_extension": ".py",
   "mimetype": "text/x-python",
   "name": "python",
   "nbconvert_exporter": "python",
   "pygments_lexer": "ipython3",
   "version": "3.12.4"
  }
 },
 "nbformat": 4,
 "nbformat_minor": 5
}
