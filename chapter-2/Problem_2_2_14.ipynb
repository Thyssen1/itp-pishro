{
 "cells": [
  {
   "cell_type": "markdown",
   "id": "89581618-1a5d-4a81-9325-5499fd4e36bd",
   "metadata": {},
   "source": [
    "### Problem 2.2.14"
   ]
  },
  {
   "cell_type": "markdown",
   "id": "c8e1d2e4-2899-4d27-90d8-ba075e22a479",
   "metadata": {},
   "source": [
    "The number of ways 15 people can be assigned in 3 groups, $N$ is:\n",
    "\n",
    "$\\displaystyle N = \\binom{15}{5} \\binom{10}{5} \\binom{5}{5} = \\frac{15!}{5!^{3}}$\n",
    "\n",
    "And the number of ways Hannah and her friedn can go in the same group, $N_{f}$, is:\n",
    "\n",
    "$\\displaystyle 3 \\binom{13}{3} \\binom{10}{5} = 3 \\frac{13!}{3! 10!} \\frac{10!}{5! 5!} = \\frac{13!}{2! 5! 5!}$"
   ]
  },
  {
   "cell_type": "markdown",
   "id": "03d22e6e-1089-46e8-a9dc-3541755f8b13",
   "metadata": {},
   "source": [
    "And therefore, the probability that Hannah and her friend are put into the same is:\n",
    "\n",
    "$\\displaystyle P(A) = \\frac{N_{f}}{N} = \\frac{13!}{2! 5! 5!} = \\frac{2}{7}$"
   ]
  },
  {
   "cell_type": "markdown",
   "id": "995c344d-57e7-4b8c-8f7b-ea1bb22d2e04",
   "metadata": {},
   "source": [
    "We can also argue for this result by following the ideas:\n",
    "1. Assign Hannah to any group.\n",
    "2. 2 Then there are 14 slots which are equally likely for her friend to choose. 4 of these choices are in Hannahs group. Thus:\n",
    "\n",
    "$P(A) = \\frac{4}{14} = \\frac{2}{7}$"
   ]
  },
  {
   "cell_type": "markdown",
   "id": "054fbf18-c556-4114-a4e3-05cba9b800b5",
   "metadata": {},
   "source": []
  }
 ],
 "metadata": {
  "kernelspec": {
   "display_name": "Python 3 (ipykernel)",
   "language": "python",
   "name": "python3"
  },
  "language_info": {
   "codemirror_mode": {
    "name": "ipython",
    "version": 3
   },
   "file_extension": ".py",
   "mimetype": "text/x-python",
   "name": "python",
   "nbconvert_exporter": "python",
   "pygments_lexer": "ipython3",
   "version": "3.12.4"
  }
 },
 "nbformat": 4,
 "nbformat_minor": 5
}
