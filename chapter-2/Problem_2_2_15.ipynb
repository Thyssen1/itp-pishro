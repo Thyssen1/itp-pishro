{
 "cells": [
  {
   "cell_type": "markdown",
   "id": "229fd953-3a6c-4440-b845-69dab58e4ed3",
   "metadata": {},
   "source": [
    "### Problem 2.2.15"
   ]
  },
  {
   "cell_type": "markdown",
   "id": "fb629f6c-42a5-4266-aa50-3d16895dcf81",
   "metadata": {},
   "source": [
    "Let A be the event that at least one value in 5 dice rolls is observed more than once.\n",
    "Then the $P(A)$ can be found by:\n",
    "\n",
    "$P(A) = 1 - P(\\bar{A})$\n",
    "\n",
    "where $\\bar{A}$ is the even tthat no value is observed more than once:\n",
    "\n",
    "$\\displaystyle P(A) = 1 - \\bar(A) = 1 - \\frac{|\\bar{A}|}{|S|} = 1 - \\frac{P_{5}^{6}}{6^{5}} = \\frac{5}{54} $\n",
    "\n",
    "where $P_{5}^{6}$ is the number of all possible ways of obtaining 5 dice rolls (order matters)."
   ]
  },
  {
   "cell_type": "markdown",
   "id": "30ff152a-d5af-44b0-a051-2e70017d5e1d",
   "metadata": {},
   "source": []
  },
  {
   "cell_type": "markdown",
   "id": "60283013-6507-41d5-8231-95d8a0857728",
   "metadata": {},
   "source": []
  }
 ],
 "metadata": {
  "kernelspec": {
   "display_name": "Python 3 (ipykernel)",
   "language": "python",
   "name": "python3"
  },
  "language_info": {
   "codemirror_mode": {
    "name": "ipython",
    "version": 3
   },
   "file_extension": ".py",
   "mimetype": "text/x-python",
   "name": "python",
   "nbconvert_exporter": "python",
   "pygments_lexer": "ipython3",
   "version": "3.12.4"
  }
 },
 "nbformat": 4,
 "nbformat_minor": 5
}
