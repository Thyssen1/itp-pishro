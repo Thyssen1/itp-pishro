{
 "cells": [
  {
   "cell_type": "markdown",
   "id": "de92acf9-9490-456a-9c24-7c9231182896",
   "metadata": {},
   "source": [
    "### Problem 2.2.1"
   ]
  },
  {
   "cell_type": "markdown",
   "id": "354f2ce5-9a4e-4fc0-a05e-3cd34eda43a5",
   "metadata": {},
   "source": [
    "There are 4 types, 3 cup sizes, and $2^3 = 8$ combinations due to cream, sugar and milk.\n",
    "\n",
    "By direct application of the multiplication principle there are:\n",
    "$4 \\cdot 3 \\cdot 2^3 = 96$ combinations."
   ]
  },
  {
   "cell_type": "markdown",
   "id": "d3252ad0-6b86-4a74-8073-781296b658f6",
   "metadata": {},
   "source": []
  }
 ],
 "metadata": {
  "kernelspec": {
   "display_name": "Python 3 (ipykernel)",
   "language": "python",
   "name": "python3"
  },
  "language_info": {
   "codemirror_mode": {
    "name": "ipython",
    "version": 3
   },
   "file_extension": ".py",
   "mimetype": "text/x-python",
   "name": "python",
   "nbconvert_exporter": "python",
   "pygments_lexer": "ipython3",
   "version": "3.12.4"
  }
 },
 "nbformat": 4,
 "nbformat_minor": 5
}
