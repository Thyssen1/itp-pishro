{
 "cells": [
  {
   "cell_type": "markdown",
   "id": "d0f23db7-708d-498d-9cf2-1af8a3a5609b",
   "metadata": {},
   "source": [
    "### Problem 2.2.11"
   ]
  },
  {
   "cell_type": "markdown",
   "id": "37a161ba-0fae-4451-94db-656065967213",
   "metadata": {},
   "source": [
    "There are $\\displaystyle \\binom{15}{10} = \\frac{15!}{10! 5!}$ possible paths to get the (10,5). \n",
    "The paths that cross (10,5) go to (20,10) and from (10,5) to (20,10) there are $\\binom{15}{10}$ paths.\n",
    "Also, the total number of paths from (0,0) to (20,10) is $\\displaystyle \\binom{30}{10}$.\n",
    "\n",
    "Then the probability is:\n",
    "\n",
    "$\\displaystyle P(A) = \\frac{\\binom{15}{10}^{2}}{\\binom{30}{10}}$"
   ]
  },
  {
   "cell_type": "markdown",
   "id": "02ed9cec-dab1-48d7-81cf-1e5682d49ee7",
   "metadata": {},
   "source": []
  },
  {
   "cell_type": "markdown",
   "id": "8011c66b-9fc7-4c44-82b0-a1a5ac23fcdc",
   "metadata": {},
   "source": []
  }
 ],
 "metadata": {
  "kernelspec": {
   "display_name": "Python 3 (ipykernel)",
   "language": "python",
   "name": "python3"
  },
  "language_info": {
   "codemirror_mode": {
    "name": "ipython",
    "version": 3
   },
   "file_extension": ".py",
   "mimetype": "text/x-python",
   "name": "python",
   "nbconvert_exporter": "python",
   "pygments_lexer": "ipython3",
   "version": "3.12.4"
  }
 },
 "nbformat": 4,
 "nbformat_minor": 5
}
