{
 "cells": [
  {
   "cell_type": "markdown",
   "id": "b193343a-2d54-472e-ae11-76412237d3c0",
   "metadata": {},
   "source": [
    "### Problem 2.2.9"
   ]
  },
  {
   "cell_type": "markdown",
   "id": "1143fcfa-9f8b-4089-ac1d-7e35255ef30d",
   "metadata": {},
   "source": [
    "Bernoulli independent trials with $p$ of success (heads), $p-1$ of failure (tails). "
   ]
  },
  {
   "cell_type": "markdown",
   "id": "1e874b0a-6718-438f-a07d-d471685b2dec",
   "metadata": {},
   "source": [
    "a)\n",
    "\n",
    "The probability of 8 heads is:\n",
    "\n",
    "$P(k=8) = \\binom{20}{8} p^{8} (1-p)^{12}$"
   ]
  },
  {
   "cell_type": "markdown",
   "id": "02ed3392-89c1-400c-b723-0f557a6aef0c",
   "metadata": {},
   "source": [
    "b)\n",
    "\n",
    "The probability of getting more than 8 heads and 8 tails is the same as getting one of the pairs (k heads, 20-k tails): \n",
    "\n",
    "$\\{ (9, 11), (10, 10), (11, 9) \\}$\n",
    "\n",
    "Furthermore, these are disjoint events and thus the probability is a sum of the probabilities of the above events:\n",
    "\n",
    "$P(k=9 \\cup k=10 \\cup k=11) = P(k=9) + P(k=10) + P(k=11) =\n",
    "\\binom{20}{9} p^{9} (1-p)^{11} + \\binom{20}{10} p^{10} (1-p)^{10} + \\binom{20}{11} p^{11} (1-p)^{9}$ "
   ]
  },
  {
   "cell_type": "code",
   "execution_count": null,
   "id": "91c62280-9aad-400d-9343-6dc8c6236882",
   "metadata": {},
   "outputs": [],
   "source": []
  }
 ],
 "metadata": {
  "kernelspec": {
   "display_name": "Python 3 (ipykernel)",
   "language": "python",
   "name": "python3"
  },
  "language_info": {
   "codemirror_mode": {
    "name": "ipython",
    "version": 3
   },
   "file_extension": ".py",
   "mimetype": "text/x-python",
   "name": "python",
   "nbconvert_exporter": "python",
   "pygments_lexer": "ipython3",
   "version": "3.11.4"
  }
 },
 "nbformat": 4,
 "nbformat_minor": 5
}
