{
 "cells": [
  {
   "cell_type": "markdown",
   "id": "70a532bb-aac1-41dc-be65-e2eb87625681",
   "metadata": {},
   "source": [
    "### Problem 2.2.2"
   ]
  },
  {
   "cell_type": "markdown",
   "id": "63b36898-c3ad-4a8d-b6c6-70ffae1da738",
   "metadata": {},
   "source": [
    "There are $N=12$ chairs and $k=8$ committee members:\n",
    "\n",
    "$\\binom{12}{1} \\binom{11}{1} \\binom{10}{1} \\binom{9}{1} \\binom{8}{1} \\binom{7}{1} \\binom{6}{1} \\binom{5}{1} = 12 \\cdot ... \\cdot 5 = \\frac{12!}{4!}$"
   ]
  },
  {
   "cell_type": "markdown",
   "id": "46fd3900-5fda-49b5-a6af-e27e26d9a0e3",
   "metadata": {},
   "source": [
    "The logic is: One committee member choose among 12 chairs, the next has 11 to choose from, and so on until there are 5 chairs left."
   ]
  }
 ],
 "metadata": {
  "kernelspec": {
   "display_name": "Python 3 (ipykernel)",
   "language": "python",
   "name": "python3"
  },
  "language_info": {
   "codemirror_mode": {
    "name": "ipython",
    "version": 3
   },
   "file_extension": ".py",
   "mimetype": "text/x-python",
   "name": "python",
   "nbconvert_exporter": "python",
   "pygments_lexer": "ipython3",
   "version": "3.12.4"
  }
 },
 "nbformat": 4,
 "nbformat_minor": 5
}
