{
 "cells": [
  {
   "cell_type": "markdown",
   "id": "ee09e22f-3834-4732-8746-899b3bee6145",
   "metadata": {},
   "source": [
    "### Problem 2.2.20"
   ]
  },
  {
   "cell_type": "markdown",
   "id": "8cd622f6-5723-46a3-b8bb-4f1c32e8cea0",
   "metadata": {},
   "source": [
    "We can rearrange the equation to:\n",
    "\n",
    "$x_{2} + ... + x_{4} = 100 - x_{1}$\n",
    "\n",
    "If we have $x_{1} = 0$, then there are $\\displaystyle \\binom{102}{2}$ solutions.\n",
    "\n",
    "For $x_{1} = 1$, there are $\\displaystyle \\binom{101}{2}$ solutions.\n",
    "\n",
    "Continuing in this fashion and summing up all the number of solutions, we get:\n",
    "\n",
    "$\\displaystyle \\sum_{p=0}^{10} \\binom{3+100-p-1}{3-1} = \\sum_{p=0}^{10} \\binom{102-p}{2}$"
   ]
  },
  {
   "cell_type": "markdown",
   "id": "ff1b3dd1-afa5-4a3e-b3d8-9b9b4c5a44d6",
   "metadata": {},
   "source": []
  },
  {
   "cell_type": "markdown",
   "id": "0a575866-6987-4e33-8421-5e3f81af37ae",
   "metadata": {},
   "source": []
  }
 ],
 "metadata": {
  "kernelspec": {
   "display_name": "Python 3 (ipykernel)",
   "language": "python",
   "name": "python3"
  },
  "language_info": {
   "codemirror_mode": {
    "name": "ipython",
    "version": 3
   },
   "file_extension": ".py",
   "mimetype": "text/x-python",
   "name": "python",
   "nbconvert_exporter": "python",
   "pygments_lexer": "ipython3",
   "version": "3.11.4"
  }
 },
 "nbformat": 4,
 "nbformat_minor": 5
}
