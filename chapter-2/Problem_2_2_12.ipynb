{
 "cells": [
  {
   "cell_type": "markdown",
   "id": "01911837-d1fc-44cd-86dc-eede428ab754",
   "metadata": {},
   "source": [
    "### Problem 2.2.12"
   ]
  },
  {
   "cell_type": "markdown",
   "id": "5eca078c-3d88-4461-8ef9-974b2c298280",
   "metadata": {},
   "source": [
    "In total, there are 20 rights and 10 ups but to get to (10,5), we must take exactly 10 steps right and 5 ups on $n=15$ steps. \n",
    "\n",
    "If we pick another combination of $n=15$, then the signal does not go through (10,5).\n",
    "\n",
    "Since the choices are dependent this is a sequence of 15 Bernoulli trials, which is a binomial:\n",
    "\n",
    "$\\displaystyle P(k) = \\binom{n}{k} p_{a}^{k} (1-p_{a})^{n-k}$\n",
    "\n",
    "And thus ($n=15, n=10)$:\n",
    "\n",
    "$\\displaystyle P(10) = \\binom{10}{5} p_{a}^{10} (1-p_{a})^{5}$"
   ]
  },
  {
   "cell_type": "markdown",
   "id": "10c51584-3dc4-4f32-81de-f2a110f142a7",
   "metadata": {},
   "source": []
  },
  {
   "cell_type": "markdown",
   "id": "283df5c8-81a9-4aa6-ad26-6bc1d918ec74",
   "metadata": {},
   "source": []
  }
 ],
 "metadata": {
  "kernelspec": {
   "display_name": "Python 3 (ipykernel)",
   "language": "python",
   "name": "python3"
  },
  "language_info": {
   "codemirror_mode": {
    "name": "ipython",
    "version": 3
   },
   "file_extension": ".py",
   "mimetype": "text/x-python",
   "name": "python",
   "nbconvert_exporter": "python",
   "pygments_lexer": "ipython3",
   "version": "3.12.4"
  }
 },
 "nbformat": 4,
 "nbformat_minor": 5
}
