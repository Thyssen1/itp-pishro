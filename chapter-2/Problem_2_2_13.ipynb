{
 "cells": [
  {
   "cell_type": "markdown",
   "id": "d37721a2-4835-4688-9412-bc3bc8c79284",
   "metadata": {},
   "source": [
    "### Problem 2.2.13"
   ]
  },
  {
   "cell_type": "markdown",
   "id": "dd8bc1be-9ebc-48c6-a7c3-3e07dcb61b33",
   "metadata": {},
   "source": [
    "Let $P(H|C_{1}) = \\frac{1}{2}$ and $P(H|C_{2}) = \\frac{1}{3}$"
   ]
  },
  {
   "cell_type": "markdown",
   "id": "d9f99230-741c-43b6-bb0c-3c5726bcf3ed",
   "metadata": {},
   "source": [
    "a)\n",
    "\n",
    "$ \\displaystyle\n",
    "P(X \\geq 3) = P(X \\geq 3 | C_{1}) P(C_{1}) + P(X \\geq 3 | C{2}) P(C_{2})\n",
    "= \\sum_{k=3}^{5} \\binom{5}{k} (\\frac{1}{2})^{5} \\frac{1}{2} + \\sum_{k=3}^{5} \\binom{5}{k} (\\frac{1}{3})^{k} (\\frac{2}{3})^{5-k} \\frac{1}{2}$ \n"
   ]
  },
  {
   "cell_type": "markdown",
   "id": "e7f9324b-921b-4159-a81b-7d30828134bc",
   "metadata": {},
   "source": [
    "b)\n",
    "\n",
    "$ \\displaystyle\n",
    "P(C_{2} | X \\geq 3) = \\frac{P(X \\geq 3 | C_{2}) P(C_{2})}{P(X \\geq 3)}\n",
    "= \\frac{ \\sum_{k=3}^{5} \\binom{5}{k} (\\frac{1}{3})^{k} (\\frac{2}{3})^{5-k} \\frac{1}{2}  }{ \\sum_{k=3}^{5} \\binom{5}{k} (\\frac{1}{2})^{5} \\frac{1}{2} + \\sum_{k=3}^{5} \\binom{5}{k} (\\frac{1}{3})^{k} (\\frac{2}{3})^{5-k} \\frac{1}{2} } $"
   ]
  },
  {
   "cell_type": "code",
   "execution_count": null,
   "id": "2fecf204-a20a-491a-9b9a-103f985a210b",
   "metadata": {},
   "outputs": [],
   "source": []
  }
 ],
 "metadata": {
  "kernelspec": {
   "display_name": "Python 3 (ipykernel)",
   "language": "python",
   "name": "python3"
  },
  "language_info": {
   "codemirror_mode": {
    "name": "ipython",
    "version": 3
   },
   "file_extension": ".py",
   "mimetype": "text/x-python",
   "name": "python",
   "nbconvert_exporter": "python",
   "pygments_lexer": "ipython3",
   "version": "3.11.4"
  }
 },
 "nbformat": 4,
 "nbformat_minor": 5
}
