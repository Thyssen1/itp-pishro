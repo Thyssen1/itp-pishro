{
 "cells": [
  {
   "cell_type": "markdown",
   "id": "f9445053-9957-468e-8f4f-5bf007a9082e",
   "metadata": {},
   "source": [
    "### Problem 2.2.5"
   ]
  },
  {
   "cell_type": "markdown",
   "id": "c01a5a17-c9ac-4f38-8cee-416d5861e1db",
   "metadata": {},
   "source": [
    "$\\displaystyle P(A_{2} \\mid A_{k > 1}) = \\frac{ P(A_{2} \\cap A_{k > 1}) }{ P(A_{k > 1}) } = \\frac{ P(A_{2}) }{ P(A_{k > 1}) } = \\frac{ P(A_{2}) }{ 1 - P(A_{0}) } = \\frac{ \\frac{ \\binom{48}{3} \\binom{4}{2} }{ \\binom{52}{5} } }{ 1 - \\frac{ \\binom{48}{5} \\binom{4}{2} }{ \\binom{52}{5} } } = \\frac{ \\binom{48}{3} \\binom{4}{2} }{ \\binom{52}{5} - \\binom{48}{5} }$\n"
   ]
  },
  {
   "cell_type": "markdown",
   "id": "ed872acd-b97e-4572-9253-cf426b281117",
   "metadata": {},
   "source": []
  },
  {
   "cell_type": "markdown",
   "id": "fd9b32f9-4236-430c-8e9f-22ac4885ae4e",
   "metadata": {},
   "source": []
  }
 ],
 "metadata": {
  "kernelspec": {
   "display_name": "Python 3 (ipykernel)",
   "language": "python",
   "name": "python3"
  },
  "language_info": {
   "codemirror_mode": {
    "name": "ipython",
    "version": 3
   },
   "file_extension": ".py",
   "mimetype": "text/x-python",
   "name": "python",
   "nbconvert_exporter": "python",
   "pygments_lexer": "ipython3",
   "version": "3.11.4"
  }
 },
 "nbformat": 4,
 "nbformat_minor": 5
}
