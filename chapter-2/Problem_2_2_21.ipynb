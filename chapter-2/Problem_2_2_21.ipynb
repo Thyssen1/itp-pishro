{
 "cells": [
  {
   "cell_type": "markdown",
   "id": "7e86f846-c1fc-4a95-b890-522101042162",
   "metadata": {},
   "source": [
    "### Problem 2.2.21"
   ]
  },
  {
   "cell_type": "markdown",
   "id": "aae87219-0cfd-44c7-8f9b-daf99478411b",
   "metadata": {},
   "source": [
    "We can apply the inclusion-exclusion principle to count the number of solutions.\n",
    "Let $A_{i}$ be the event where x_{i} is greater than 40. Then:\n",
    "\n",
    "$\\displaystyle |A_{1} \\cup A_{2} \\cup A_{3}| = |A_{1}| + |A_{2}| + |A_{3}| - |A_{1} \\cap A_{2}| - |A_{1} \\cap A_{3}| - |A_{2} \\cap A_{3}| + |A_{1} \\cap A_{2} \\cap A_{3}|$\n",
    "\n",
    "and by symmetry, we find that the number of solutions when $x_{1}$ is greater than 40 is the same as for $x_{2}$ and $x_{3}$:\n",
    "\n",
    "$|A_{1}| = |A_{2}| = |A_{3}|$\n",
    "\n",
    "and as well as when two variables are greater than 40.\n",
    "However, there are no solutions when all three variables are greater than 40:\n",
    "\n",
    "$|A_{1} \\cap A_{2} \\cap A_{3}| = 0$"
   ]
  },
  {
   "cell_type": "markdown",
   "id": "c4194535-dc5f-4b47-b7d2-bab78a04666d",
   "metadata": {},
   "source": [
    "Now, we can find the number of solutions WLOG when x_{1} is above 40.\n",
    "We write:\n",
    "\n",
    "$y_{1} = x_{1} - 41 \\in \\mathbb{N}_{0}$\n",
    "\n",
    "Then the equation becomes:\n",
    "\n",
    "$y_{1} + x_{2} + x_{3} = 100 - 41 = 59$\n",
    "\n",
    "and then we apply the same theorem as in 2.2.19 and 2.2.20 for $n=3$ and $k=59$:\n",
    "\n",
    "$\\displaystyle |A_{1}| = \\binom{3+59-1}{3-1} = \\binom{61}{2} = |A_{2}| = |A_{3}|$"
   ]
  },
  {
   "cell_type": "markdown",
   "id": "570f1a88-be5f-4a22-9028-0cd733ba8128",
   "metadata": {},
   "source": [
    "For $x_{1} > 40$ and $x_{2} > 40$ then we can perform the same substitution as above to get:\n",
    "\n",
    "$y_{1} + y_{2} + x_{3} = 100 - 82 = 18$\n",
    "\n",
    "Then for $n=3$ and $k=18$ the number of solutions is:\n",
    "\n",
    "$\\displaystyle |A_{1} \\cap A_{2}| = \\binom{3+18-1}{2} = \\binom{20}{2}$\n"
   ]
  },
  {
   "cell_type": "markdown",
   "id": "2a8f959a-0282-445a-9742-451c6d288fa7",
   "metadata": {},
   "source": [
    "Finally, the number of solutions to the equation in the beginning where at least one $x_{i}$ is larger than 40 is:\n",
    "\n",
    "$\\displaystyle |A_{1} \\cup A_{2} \\cup A_{3}| = 3|A_{1}| - 3 |A_{1} \\cap A_{2}| = 3 \\binom{61}{2} - 3 \\binom{20}{2} $"
   ]
  },
  {
   "cell_type": "code",
   "execution_count": null,
   "id": "16699efb-8888-40c6-a4f3-21e798564b86",
   "metadata": {},
   "outputs": [],
   "source": []
  }
 ],
 "metadata": {
  "kernelspec": {
   "display_name": "Python 3 (ipykernel)",
   "language": "python",
   "name": "python3"
  },
  "language_info": {
   "codemirror_mode": {
    "name": "ipython",
    "version": 3
   },
   "file_extension": ".py",
   "mimetype": "text/x-python",
   "name": "python",
   "nbconvert_exporter": "python",
   "pygments_lexer": "ipython3",
   "version": "3.12.4"
  }
 },
 "nbformat": 4,
 "nbformat_minor": 5
}
