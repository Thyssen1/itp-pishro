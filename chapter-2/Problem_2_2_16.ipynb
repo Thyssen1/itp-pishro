{
 "cells": [
  {
   "cell_type": "markdown",
   "id": "370249eb-7b30-4ab9-b879-3b095670c48b",
   "metadata": {},
   "source": [
    "### Problem 2.2.16"
   ]
  },
  {
   "cell_type": "markdown",
   "id": "7d5ad938-451a-47fc-911f-179c1ef11e88",
   "metadata": {},
   "source": [
    "a) Out of picking 15 cards, 10 must be red.\n",
    "\n",
    "There are \n",
    "$\\displaystyle \\binom{15}{10}$ ways of picking red and $\\displaystyle \\binom{20}{15}$ ways to pick 10 red cards with labels less than or equal to 15 out of 20 cards.\n",
    "Thus:\n",
    "$\\displaystyle \\frac{\\binom{10}{5}}{ \\binom{20}{15}}$"
   ]
  },
  {
   "cell_type": "markdown",
   "id": "cbaf9c88-345b-4c7a-91bc-dd3d85820550",
   "metadata": {},
   "source": [
    "b)\n",
    "\n",
    "There are $\\displaystyle \\binom{15}{8}$ ways to pick 8 red cards out of 15 and $\\displaystyle \\binom{5}{2}$ ways to pick the remaining 2 red cards out of the rest.\n",
    "Then:\n",
    "$\\displaystyle \\frac{ \\binom{15}{8} \\binom{5}{2}}{ \\binom{20}{15} }$"
   ]
  },
  {
   "cell_type": "markdown",
   "id": "e8e1e8f1-2df7-4d0f-8e04-25d893bc8cb0",
   "metadata": {},
   "source": []
  },
  {
   "cell_type": "markdown",
   "id": "bdba336d-e05f-4661-9694-d88daca51a35",
   "metadata": {},
   "source": []
  }
 ],
 "metadata": {
  "kernelspec": {
   "display_name": "Python 3 (ipykernel)",
   "language": "python",
   "name": "python3"
  },
  "language_info": {
   "codemirror_mode": {
    "name": "ipython",
    "version": 3
   },
   "file_extension": ".py",
   "mimetype": "text/x-python",
   "name": "python",
   "nbconvert_exporter": "python",
   "pygments_lexer": "ipython3",
   "version": "3.11.4"
  }
 },
 "nbformat": 4,
 "nbformat_minor": 5
}
