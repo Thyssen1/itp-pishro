{
 "cells": [
  {
   "cell_type": "markdown",
   "id": "6d483095-ed7a-4162-971f-3e802f8f42a6",
   "metadata": {},
   "source": [
    "### Problem 2.2.18"
   ]
  },
  {
   "cell_type": "markdown",
   "id": "af36f5c8-be69-4757-b21c-19abc9e52a72",
   "metadata": {},
   "source": [
    "There are $r=10$ red cards and $b=10$ blue cards."
   ]
  },
  {
   "cell_type": "markdown",
   "id": "0ad47bc6-dd93-421b-a8cc-efaf2c345889",
   "metadata": {},
   "source": [
    "a) \n",
    "The event where all red cars are labeled less than or equal to 15 is the event where we pick $k=15$ cards and $x=10$ are red and $k-x=5$ are blue out of $r+b=20$ cards."
   ]
  },
  {
   "cell_type": "markdown",
   "id": "5d99e3ad-af22-4406-9305-4b70f5535df7",
   "metadata": {},
   "source": [
    "The number of ways to pick all the 10 red cards is:\n",
    "\n",
    "$\\displaystyle \\binom{10}{10} = 1$\n",
    "\n",
    "Number of ways to pick 5 out of 10 blue cards is:\n",
    "\n",
    "$\\displaystyle \\binom{10}{5}$\n",
    "\n",
    "And the number of ways to pick 15 cards out of 20 is:\n",
    "\n",
    "$\\displaystyle \\binom{20}{15}$"
   ]
  },
  {
   "cell_type": "markdown",
   "id": "5b95173f-3caa-4c88-80d6-ccda9e8d7b24",
   "metadata": {},
   "source": [
    "Then we get the probability:\n",
    "\n",
    "$\\displaystyle \\frac{ \\binom{10}{10} \\binom{10}{5} }{ \\binom{20}{15} }$\n",
    "\n",
    "which is the hypergeometric distribution for $r=10$, $b=10$, $k=15$ and $n=20$.\n",
    "\n",
    "Alternatively, we could also count the number of ways to choose 10 red cards from among 10 red cards and 5 blue cards and divide that by the number of ways to choose 10 red cards out of the 20 blue and red cards:\n",
    "\n",
    "$\\displaystyle \\frac{ \\binom{10}{5} }{ \\binom{20}{10} } $"
   ]
  },
  {
   "cell_type": "markdown",
   "id": "d4206a74-88cf-4d50-aced-b0192cf33583",
   "metadata": {},
   "source": [
    "b)\n",
    "\n",
    "In this cae we pick 15 cards, of which there are 8 red cards out of 10 and 7 blue cards of 10.\n"
   ]
  },
  {
   "cell_type": "markdown",
   "id": "31f01bb6-83e6-41b3-a5a7-41f14fe72e25",
   "metadata": {},
   "source": [
    "The number of ways to pick 8 red cards is:\n",
    "\n",
    "$\\displaystyle \\binom{10}{8}$\n",
    "\n",
    "Number of ways to pick 7 out of 10 blue cards is:\n",
    "\n",
    "$\\displaystyle \\binom{10}{7}$\n",
    "\n",
    "And the number of ways to pick 15 cards out of 20 is:\n",
    "\n",
    "$\\displaystyle \\binom{20}{15}$"
   ]
  },
  {
   "cell_type": "markdown",
   "id": "7f0f856b-bf61-4859-aa43-f51462bcaff5",
   "metadata": {},
   "source": [
    "Which leads to the probability:\n",
    "\n",
    "$\\displaystyle \\frac{ \\binom{10}{8} \\binom{10}{7} }{ \\binom{20}{15} }$\n"
   ]
  },
  {
   "cell_type": "markdown",
   "id": "8f800e66-3d50-484b-9c35-6b1af4e6b888",
   "metadata": {},
   "source": [
    "We can compute the probability by using the comb (n choose k) function from scipy and also "
   ]
  },
  {
   "cell_type": "code",
   "execution_count": 4,
   "id": "25a8f9a7-b6c2-4d3a-87db-4d859aa3f7c5",
   "metadata": {},
   "outputs": [
    {
     "name": "stdout",
     "output_type": "stream",
     "text": [
      "Defaulting to user installation because normal site-packages is not writeable\n",
      "Requirement already satisfied: scipy in c:\\users\\chris\\appdata\\roaming\\python\\python312\\site-packages (1.15.2)\n",
      "Requirement already satisfied: numpy<2.5,>=1.23.5 in c:\\users\\chris\\appdata\\roaming\\python\\python312\\site-packages (from scipy) (1.26.4)\n"
     ]
    },
    {
     "name": "stderr",
     "output_type": "stream",
     "text": [
      "\n",
      "[notice] A new release of pip is available: 24.2 -> 25.1\n",
      "[notice] To update, run: python.exe -m pip install --upgrade pip\n"
     ]
    }
   ],
   "source": [
    "!pip install scipy\n",
    "from scipy.special import comb"
   ]
  },
  {
   "cell_type": "markdown",
   "id": "b5d5c288-ac82-46e0-b6b5-bd4c6d73f846",
   "metadata": {},
   "source": [
    "The probability in problem a) can be found by the hypergeometric distribution:"
   ]
  },
  {
   "cell_type": "code",
   "execution_count": 5,
   "id": "ca64147f-4481-4897-a8eb-59b67a62e0dc",
   "metadata": {},
   "outputs": [
    {
     "data": {
      "text/plain": [
       "0.016253869969040248"
      ]
     },
     "execution_count": 5,
     "metadata": {},
     "output_type": "execute_result"
    }
   ],
   "source": [
    "comb(10, 10, exact=True) * comb(10, 5, exact=True) / comb(20, 15, exact=True)"
   ]
  },
  {
   "cell_type": "markdown",
   "id": "bf66ddaf-2051-4c8c-beb0-99169ff413ee",
   "metadata": {},
   "source": [
    "But also by the second proposal as:"
   ]
  },
  {
   "cell_type": "code",
   "execution_count": 6,
   "id": "bbf61c5a-f3cc-4ba2-9515-e4e306245e24",
   "metadata": {},
   "outputs": [
    {
     "data": {
      "text/plain": [
       "0.016253869969040248"
      ]
     },
     "execution_count": 6,
     "metadata": {},
     "output_type": "execute_result"
    }
   ],
   "source": [
    "comb(15, 10, exact=True) / comb(20, 10, exact=True)"
   ]
  },
  {
   "cell_type": "markdown",
   "id": "ea8da7d6-0131-4c6a-bce0-5f62f94c4d4b",
   "metadata": {},
   "source": [
    "And for problem b) we get:"
   ]
  },
  {
   "cell_type": "code",
   "execution_count": 7,
   "id": "20005d37-073e-4abc-af74-c20881232efe",
   "metadata": {},
   "outputs": [
    {
     "data": {
      "text/plain": [
       "0.34829721362229105"
      ]
     },
     "execution_count": 7,
     "metadata": {},
     "output_type": "execute_result"
    }
   ],
   "source": [
    "comb(10, 8, exact=True) * comb(10, 7, exact=True) / comb(20, 15, exact=True)"
   ]
  },
  {
   "cell_type": "code",
   "execution_count": null,
   "id": "65da9812-b1cf-4c73-a1ab-41b8a17cd4f6",
   "metadata": {},
   "outputs": [],
   "source": []
  }
 ],
 "metadata": {
  "kernelspec": {
   "display_name": "Python 3 (ipykernel)",
   "language": "python",
   "name": "python3"
  },
  "language_info": {
   "codemirror_mode": {
    "name": "ipython",
    "version": 3
   },
   "file_extension": ".py",
   "mimetype": "text/x-python",
   "name": "python",
   "nbconvert_exporter": "python",
   "pygments_lexer": "ipython3",
   "version": "3.12.4"
  }
 },
 "nbformat": 4,
 "nbformat_minor": 5
}
