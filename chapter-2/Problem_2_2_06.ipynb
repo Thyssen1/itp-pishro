{
 "cells": [
  {
   "cell_type": "markdown",
   "id": "1233e6a0-7d44-4ae9-89c7-42bb3662cd6e",
   "metadata": {},
   "source": [
    "### Problem 2.2.6"
   ]
  },
  {
   "cell_type": "markdown",
   "id": "3dc04cbb-20f1-4c35-8959-536a1628ef73",
   "metadata": {},
   "source": [
    "First we calculate the probability that A and B choose 7 spades out of 13 spades in the 52 cards:\n",
    "\n",
    "$\\displaystyle \\frac{ \\binom{13}{7} \\binom{39}{19} }{ \\binom{52}{26} }$\n",
    "\n",
    "and then we compute the probability that C choose exactly 4 spades from the 6 remaining from the 26 remaining cards:\n",
    "\n",
    "$\\displaystyle \\frac{ \\binom{6}{4} \\binom{20}{9} }{ \\binom{26}{13} } $\n",
    "\n",
    "Finally, the result is:\n",
    "\n",
    "$\\displaystyle P = \\frac{ \\binom{13}{7} \\binom{39}{19} }{ \\binom{52}{26} } \\frac{ \\binom{6}{4} \\binom{20}{9} }{ \\binom{26}{13} } $\n",
    "\n",
    "which evaluates to:"
   ]
  },
  {
   "cell_type": "code",
   "execution_count": 16,
   "id": "f7e7ccfb-c832-4f2a-b085-cb6dbc1ed59c",
   "metadata": {},
   "outputs": [
    {
     "data": {
      "text/plain": [
       "0.05777121676442388"
      ]
     },
     "execution_count": 16,
     "metadata": {},
     "output_type": "execute_result"
    }
   ],
   "source": [
    "import math\n",
    "( math.comb(13, 7) * math.comb(39, 19) * math.comb(6, 4) * math.comb(20, 9) ) / (math.comb(52, 26) * math.comb(26, 13))"
   ]
  }
 ],
 "metadata": {
  "kernelspec": {
   "display_name": "Python 3 (ipykernel)",
   "language": "python",
   "name": "python3"
  },
  "language_info": {
   "codemirror_mode": {
    "name": "ipython",
    "version": 3
   },
   "file_extension": ".py",
   "mimetype": "text/x-python",
   "name": "python",
   "nbconvert_exporter": "python",
   "pygments_lexer": "ipython3",
   "version": "3.11.4"
  }
 },
 "nbformat": 4,
 "nbformat_minor": 5
}
