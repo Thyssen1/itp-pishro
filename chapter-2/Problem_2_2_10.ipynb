{
 "cells": [
  {
   "cell_type": "markdown",
   "id": "cc61ac3f-628b-48b6-8f22-6e63a92601ed",
   "metadata": {},
   "source": [
    "### Problem 2.2.10"
   ]
  },
  {
   "cell_type": "markdown",
   "id": "60a42d8e-f712-4fa1-b2a6-3845b1c9b571",
   "metadata": {},
   "source": [
    "Since any path will consist of 20 movements to the right and 10 up, it is the same problem as how the letters in Massachusetts can be rearranged.\n",
    "Therefore:\n",
    "\n",
    "$\\displaystyle \\binom{30}{20} \\binom{10}{10} = \\frac{30!}{20! 10!} \\frac{10!}{10! 0!} = \\binom{30}{10} = \\frac{30!}{20! 10!}$"
   ]
  },
  {
   "cell_type": "markdown",
   "id": "9d1e04c2-5971-4d19-88c7-9d16c6a9f8cd",
   "metadata": {},
   "source": []
  },
  {
   "cell_type": "markdown",
   "id": "2c5dc3ec-c618-461a-9758-2bcc520de333",
   "metadata": {},
   "source": []
  }
 ],
 "metadata": {
  "kernelspec": {
   "display_name": "Python 3 (ipykernel)",
   "language": "python",
   "name": "python3"
  },
  "language_info": {
   "codemirror_mode": {
    "name": "ipython",
    "version": 3
   },
   "file_extension": ".py",
   "mimetype": "text/x-python",
   "name": "python",
   "nbconvert_exporter": "python",
   "pygments_lexer": "ipython3",
   "version": "3.11.4"
  }
 },
 "nbformat": 4,
 "nbformat_minor": 5
}
