{
 "cells": [
  {
   "cell_type": "markdown",
   "id": "d091e4a0-a325-41e5-95f1-4c686bc4edf1",
   "metadata": {},
   "source": [
    "### Problem 2.2.19"
   ]
  },
  {
   "cell_type": "markdown",
   "id": "fc0002b2-3e6f-4e84-b411-557b1e161b73",
   "metadata": {},
   "source": [
    "The following equation\n",
    "\n",
    "$x_{1} + ... + x_{5} = 100$\n",
    "\n",
    "in which $x_{i} \\in \\mathbb{N}$ can be written as:\n",
    "\n",
    "$y_{1} + ... + y_{5} = 95$\n",
    "\n",
    "where $y_{i} \\in \\mathbb{N}_{0}$\n"
   ]
  },
  {
   "cell_type": "markdown",
   "id": "17a16e3c-d455-42a3-8f21-cc8f02b48906",
   "metadata": {},
   "source": [
    "We know that in general the number of solutions to this equation for $n=5$ and $k=95$ is:\n",
    "\n",
    "$\\displaystyle \\binom{n+k-1}{k}$\n",
    "\n",
    "And therefore the number of solutions to the equations is:\n",
    "\n",
    "$\\binom{5+95-1}{95} = \\binom{99}{95} = \\binom{99}{4}$"
   ]
  },
  {
   "cell_type": "markdown",
   "id": "81e8f2db-3b28-47df-924d-c2b30b9dfa23",
   "metadata": {},
   "source": []
  }
 ],
 "metadata": {
  "kernelspec": {
   "display_name": "Python 3 (ipykernel)",
   "language": "python",
   "name": "python3"
  },
  "language_info": {
   "codemirror_mode": {
    "name": "ipython",
    "version": 3
   },
   "file_extension": ".py",
   "mimetype": "text/x-python",
   "name": "python",
   "nbconvert_exporter": "python",
   "pygments_lexer": "ipython3",
   "version": "3.12.4"
  }
 },
 "nbformat": 4,
 "nbformat_minor": 5
}
