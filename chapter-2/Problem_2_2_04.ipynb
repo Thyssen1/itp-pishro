{
 "cells": [
  {
   "cell_type": "markdown",
   "id": "bc720c02-63da-4190-817c-0679b13de3a7",
   "metadata": {},
   "source": [
    "### Problem 2.2.4"
   ]
  },
  {
   "cell_type": "markdown",
   "id": "0b3837fe-66e9-4df5-8fcf-37252a5962ad",
   "metadata": {},
   "source": [
    "There are\n",
    "\n",
    "$\\displaystyle |S| = \\binom{52}{5}$\n",
    "\n",
    "ways to to deal 5 cards."
   ]
  },
  {
   "cell_type": "markdown",
   "id": "dcc2ce3c-8a40-4df6-9e79-84e7fe6bb8d5",
   "metadata": {},
   "source": [
    "a)\n",
    "\n",
    "There are 4 aces in a deck of cards and therefore the probability that at least 1 ace is drawn is:\n",
    "\n",
    "$\\displaystyle P(A_{1}) = \\frac{ |A_{1}| }{ |S| } = \\frac{ \\binom{48}{4} \\binom{4}{1} }{ \\binom{52}{5} }$\n"
   ]
  },
  {
   "cell_type": "markdown",
   "id": "b4708b34-8345-4b5d-ad38-74fdeb6e2ea3",
   "metadata": {},
   "source": [
    "b)\n",
    "\n",
    "The probability that more than 1 ace is drawn can be found by the difference of the probability of |S| and the probability that no aces are drawn:\n",
    "\n",
    "$\\displaystyle P(k > 1) = 1 - P(A_{0}) = 1 - \\frac{ \\binom{48}{5} }{ \\binom{52}{5} } $"
   ]
  },
  {
   "cell_type": "markdown",
   "id": "49559fcc-dfdd-47d8-885a-a79a1d23d9e6",
   "metadata": {},
   "source": []
  }
 ],
 "metadata": {
  "kernelspec": {
   "display_name": "Python 3 (ipykernel)",
   "language": "python",
   "name": "python3"
  },
  "language_info": {
   "codemirror_mode": {
    "name": "ipython",
    "version": 3
   },
   "file_extension": ".py",
   "mimetype": "text/x-python",
   "name": "python",
   "nbconvert_exporter": "python",
   "pygments_lexer": "ipython3",
   "version": "3.12.4"
  }
 },
 "nbformat": 4,
 "nbformat_minor": 5
}
