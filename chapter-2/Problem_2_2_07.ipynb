{
 "cells": [
  {
   "cell_type": "markdown",
   "id": "4f59e293-f663-4a5e-97f1-7ab3317746e9",
   "metadata": {},
   "source": [
    "### Problem 2.2.7"
   ]
  },
  {
   "cell_type": "markdown",
   "id": "4e614251-f581-4742-a240-a3e7d4aa2c34",
   "metadata": {},
   "source": [
    "There are $n=50$ students and $k=15$ students that are to be chosen.\n",
    "\n",
    "There are $\\displaystyle \\binom{50}{15}$ ways to pick 15 students. "
   ]
  },
  {
   "cell_type": "markdown",
   "id": "a22b3347-b72a-4f8f-a6e0-2f1d2e19c8c6",
   "metadata": {},
   "source": [
    "Let A be the event that the professor picks \"you\" and let B be the event that the professor picks Joe.\n",
    "Then:\n",
    "\n",
    "$\\displaystyle P(A) = P(B) = \\frac{ \\binom{49}{14} }{ \\binom{50}{15} }$\n",
    "\n",
    "$\\displaystyle P(A \\cap B) = \\frac{ \\binom{48}{13} }{ \\binom{50}{15} }$\n",
    "\n",
    "Then:\n",
    "\n",
    "$\\displaystyle P(A \\cup B) = P(A) + P(B) - P(A \\cap B) = 2 \\frac{ \\binom{49}{14} }{ \\binom{50}{15} } - \\frac{ \\binom{48}{13} }{ \\binom{50}{15} } $\n",
    "\n",
    "which evaluates to:"
   ]
  },
  {
   "cell_type": "code",
   "execution_count": 3,
   "id": "708a5dcb-c878-49f5-8695-e9c4b926df62",
   "metadata": {},
   "outputs": [
    {
     "data": {
      "text/plain": [
       "0.5142857142857142"
      ]
     },
     "execution_count": 3,
     "metadata": {},
     "output_type": "execute_result"
    }
   ],
   "source": [
    "import math\n",
    "\n",
    "2 * math.comb(49, 14) / math.comb(50, 15) -  math.comb(48, 13) / math.comb(50, 15)"
   ]
  },
  {
   "cell_type": "code",
   "execution_count": null,
   "id": "a9590ca1-6f1a-497a-b7f3-16b3b5c93428",
   "metadata": {},
   "outputs": [],
   "source": []
  }
 ],
 "metadata": {
  "kernelspec": {
   "display_name": "Python 3 (ipykernel)",
   "language": "python",
   "name": "python3"
  },
  "language_info": {
   "codemirror_mode": {
    "name": "ipython",
    "version": 3
   },
   "file_extension": ".py",
   "mimetype": "text/x-python",
   "name": "python",
   "nbconvert_exporter": "python",
   "pygments_lexer": "ipython3",
   "version": "3.11.4"
  }
 },
 "nbformat": 4,
 "nbformat_minor": 5
}
