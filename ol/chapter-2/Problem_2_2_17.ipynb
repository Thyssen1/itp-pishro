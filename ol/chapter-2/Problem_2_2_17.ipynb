{
 "cells": [
  {
   "cell_type": "markdown",
   "id": "12436932-1acb-440f-b764-3692d25cb49f",
   "metadata": {},
   "source": [
    "### Problem 2.2.17"
   ]
  },
  {
   "cell_type": "markdown",
   "id": "93da7c0f-60a0-403a-b39f-0e0aa83c00be",
   "metadata": {},
   "source": [
    "To solve this problem we can apply Bayes' theorem.\n",
    "\n",
    "Let $B_{i}$ be the event that we choose bag i. Furthermore, let $X = 2$ be the event that 2 red marbles are drawn from a pick of 5 marbles.\n",
    "\n",
    "Then:\n",
    "\n",
    "$\\displaystyle P(B_1 | X = 2) = \\frac{ P(X = 2 | B_1 ) P(B_1) }{ P(X=2) } = \\frac{ P(X = 2 | B_1 ) P(B_1) }{ P(X = 2 | B_1 ) P(B_1) + P(X = 2 | B_2 ) P(B_2) } $"
   ]
  },
  {
   "cell_type": "markdown",
   "id": "7c8e5b71-3bde-44a8-acff-f2f63f15facc",
   "metadata": {},
   "source": [
    "Since $P(B_1) = P(B_2) = \\frac{1}{2}$ we only need to find the remaining:\n",
    "\n",
    "$\\displaystyle P(X = 2 | B_1) = \\frac{ \\binom{6}{2} \\binom{10}{3} }{ \\binom{16}{5} }$\n",
    "\n",
    "$\\displaystyle P(X = 2 | B_2) = \\frac{ \\binom{6}{2} \\binom{15}{3} }{ \\binom{21}{5} }$"
   ]
  },
  {
   "cell_type": "markdown",
   "id": "829f6498-c13d-4246-bf72-862b70391dfd",
   "metadata": {},
   "source": [
    "Then:\n",
    "\n",
    "$\\displaystyle P(B_1 | X = 2) = \\frac{ \\frac{ \\binom{6}{2} \\binom{10}{3} }{ \\binom{16}{5} } }{ \\frac{ \\binom{6}{2} \\binom{10}{3} }{ \\binom{16}{5} } + \\frac{ \\binom{6}{2} \\binom{15}{3} }{ \\binom{21}{5} } }$"
   ]
  },
  {
   "cell_type": "markdown",
   "id": "e8760195-ba51-4f5c-a578-4589e393f74a",
   "metadata": {},
   "source": []
  }
 ],
 "metadata": {
  "kernelspec": {
   "display_name": "Python 3 (ipykernel)",
   "language": "python",
   "name": "python3"
  },
  "language_info": {
   "codemirror_mode": {
    "name": "ipython",
    "version": 3
   },
   "file_extension": ".py",
   "mimetype": "text/x-python",
   "name": "python",
   "nbconvert_exporter": "python",
   "pygments_lexer": "ipython3",
   "version": "3.11.4"
  }
 },
 "nbformat": 4,
 "nbformat_minor": 5
}
